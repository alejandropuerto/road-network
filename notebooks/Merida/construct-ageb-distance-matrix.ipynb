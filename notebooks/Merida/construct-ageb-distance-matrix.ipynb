{
 "cells": [
  {
   "cell_type": "code",
   "execution_count": 8,
   "metadata": {},
   "outputs": [
    {
     "data": {
      "text/plain": [
       "'1.0.1'"
      ]
     },
     "execution_count": 8,
     "metadata": {},
     "output_type": "execute_result"
    }
   ],
   "source": [
    "import osmnx as ox\n",
    "import pandas as pd\n",
    "import geopandas as gpd\n",
    "import numpy as np\n",
    "import networkx as nx\n",
    "import ast\n",
    "import pathlib\n",
    "import time\n",
    "import multiprocessing as mp\n",
    "import itertools\n",
    "%matplotlib inline\n",
    "\n",
    "# turn response caching on and turn on logging to your terminal window\n",
    "ox.config(log_console=True, use_cache=True)\n",
    "\n",
    "ox.__version__"
   ]
  },
  {
   "cell_type": "code",
   "execution_count": 2,
   "metadata": {},
   "outputs": [
    {
     "name": "stdout",
     "output_type": "stream",
     "text": [
      "Graph created at: 2021-03-31 01:02:44\n"
     ]
    }
   ],
   "source": [
    "places = [{'county' : 'Merida',\n",
    "           'state' : 'Yucatan',\n",
    "           'country' : 'Mexico'}]\n",
    "\n",
    "def get_roads_osmnx(places, update=False, proj=False, crs=None):\n",
    "\n",
    "    dirpath = pathlib.Path('./data/networks/')\n",
    "    filepath = dirpath/'merida-road.graphml'\n",
    "    logpath = dirpath/'log'\n",
    "                                    \n",
    "    if filepath.exists() and not update:\n",
    "        G = ox.load_graphml(filepath)\n",
    "    else:\n",
    "        # get drivable public streets network, aka road network, without service roads,\n",
    "        # e.g. private, parking lots, etc.\n",
    "        # use retain_all if you want to keep all disconnected subgraphs (e.g. when your places aren't adjacent)\n",
    "        # TODO: It would be nice to setup up a polygon for the city and its surrounding areas, to be sure\n",
    "        # exactly the location.\n",
    "        G = ox.graph_from_place(places, network_type='drive')\n",
    "        ox.save_graphml(G, filepath=filepath, gephi=False)\n",
    "        \n",
    "    if proj:\n",
    "        G = ox.project_graph(G, to_crs=crs)\n",
    "    \n",
    "    print(f\"Graph created at: {G.graph['created_date']}\")\n",
    "    return G, *ox.graph_to_gdfs(G)\n",
    "        \n",
    "#G, nodes, edges = get_roads_osmnx(places, update=False)\n",
    "G_proj, nodes_proj, edges_proj = get_roads_osmnx(places, update=False, proj=True, crs=3857)"
   ]
  },
  {
   "cell_type": "code",
   "execution_count": 3,
   "metadata": {},
   "outputs": [],
   "source": [
    "# get largest strongly connected component for calculating shortest paths\n",
    "Gs = ox.utils_graph.get_largest_component(G_proj, strongly=True)"
   ]
  },
  {
   "cell_type": "markdown",
   "metadata": {},
   "source": [
    "## Construct the coarse-grained distance matrix\n",
    "\n",
    "The distance matrix stores the minimum shortest path length between AGEBs.\n",
    "\n",
    "The matrix is of size (NUMBER OF AGEBS x NUMBER OF AGEBS)"
   ]
  },
  {
   "cell_type": "code",
   "execution_count": 5,
   "metadata": {},
   "outputs": [],
   "source": [
    "agebs = gpd.read_file('./data/merida_ageb_stats_census_shp/merida_ageb_stats_census.shp')"
   ]
  },
  {
   "cell_type": "code",
   "execution_count": 6,
   "metadata": {},
   "outputs": [],
   "source": [
    "num_agebs = len(agebs)"
   ]
  },
  {
   "cell_type": "code",
   "execution_count": 7,
   "metadata": {},
   "outputs": [],
   "source": [
    "distance_matrix = np.zeros((num_agebs, num_agebs))"
   ]
  },
  {
   "cell_type": "markdown",
   "metadata": {},
   "source": [
    "### Multiprocess (parallel) implementation\n",
    "\n",
    "This parallel implementation was adapted from: https://stackoverflow.com/questions/13993674/using-multiprocessing-for-finding-network-paths"
   ]
  },
  {
   "cell_type": "code",
   "execution_count": 23,
   "metadata": {},
   "outputs": [],
   "source": [
    "def worker(inqueue, output):\n",
    "    shortest_paths = []\n",
    "    #count = 0\n",
    "    for pair in iter(inqueue.get, sentinel):\n",
    "        source, target = pair\n",
    "        try:\n",
    "            sp = nx.shortest_path_length(Gs, source=source, target=target, weight='length', method='dijkstra')\n",
    "            shortest_paths.append(sp)\n",
    "        except Exception as e:\n",
    "            #print('Source AGEB {} to target AGEB {} failed: {}'.format(source_ageb, target_ageb, e))\n",
    "            pass\n",
    "            #count += 1\n",
    "            #if count % 10 == 0:\n",
    "            #    logger.info('{c}'.format(c = count))\n",
    "    output.put(shortest_paths)"
   ]
  },
  {
   "cell_type": "code",
   "execution_count": 24,
   "metadata": {},
   "outputs": [],
   "source": [
    "def test_workers(sources, targets):\n",
    "    result = []\n",
    "    inqueue = mp.Queue()\n",
    "    for source, target in itertools.product(sources, targets):\n",
    "        inqueue.put((source, target))\n",
    "    procs = [mp.Process(target = worker, args = (inqueue, output))\n",
    "             for i in range(mp.cpu_count())]\n",
    "    for proc in procs:\n",
    "        proc.daemon = True\n",
    "        proc.start()\n",
    "    for proc in procs:    \n",
    "        inqueue.put(sentinel)\n",
    "    for proc in procs:\n",
    "        result.extend(output.get())\n",
    "    for proc in procs:\n",
    "        proc.join()\n",
    "    return result"
   ]
  },
  {
   "cell_type": "code",
   "execution_count": null,
   "metadata": {},
   "outputs": [
    {
     "name": "stdout",
     "output_type": "stream",
     "text": [
      "Source AGEB: 0\n",
      "Target AGEB: 0\n",
      "0.0\n",
      "Source AGEB: 0\n",
      "Target AGEB: 1\n",
      "2927.134\n",
      "Source AGEB: 0\n",
      "Target AGEB: 2\n",
      "2062.024\n",
      "Source AGEB: 0\n",
      "Target AGEB: 3\n",
      "853.208\n"
     ]
    },
    {
     "name": "stderr",
     "output_type": "stream",
     "text": [
      "Process Process-14:\n",
      "Process Process-16:\n",
      "Process Process-13:\n",
      "Process Process-15:\n",
      "Traceback (most recent call last):\n"
     ]
    }
   ],
   "source": [
    "%%time\n",
    "\n",
    "sentinel = None\n",
    "output = mp.Queue()\n",
    "\n",
    "for source_ageb in range(num_agebs):\n",
    "    for target_ageb in range(num_agebs):\n",
    "        source_nodes = ageb_centroids['nodes'].iloc[source_ageb]\n",
    "        target_nodes = ageb_centroids['nodes'].iloc[target_ageb]\n",
    "        \n",
    "        if (source_ageb == target_ageb):\n",
    "            min_sp = 0.\n",
    "        else:\n",
    "            shortest_paths = test_workers(source_nodes, target_nodes)\n",
    "            min_sp = min(shortest_paths, default = 0.)\n",
    "            \n",
    "        distance_matrix[source_ageb][target_ageb] = min_sp\n",
    "        np.save('dist_matrix', distance_matrix) # save matrix in binary file\n",
    "        print(\"Source AGEB: \" + str(source_ageb))\n",
    "        print(\"Target AGEB: \" + str(target_ageb))\n",
    "        print(\"Minimum shortest path length: \" + str(min_sp))"
   ]
  },
  {
   "cell_type": "code",
   "execution_count": null,
   "metadata": {},
   "outputs": [],
   "source": [
    "distance_matrix"
   ]
  },
  {
   "cell_type": "code",
   "execution_count": 2,
   "metadata": {},
   "outputs": [],
   "source": [
    "dist_mat = np.load('dist_matrix.npy') # load the saved matrix"
   ]
  },
  {
   "cell_type": "code",
   "execution_count": null,
   "metadata": {},
   "outputs": [],
   "source": [
    "dist_mat == distance_matrix # check if they are the same"
   ]
  }
 ],
 "metadata": {
  "kernelspec": {
   "display_name": "Python 3",
   "language": "python",
   "name": "python3"
  },
  "language_info": {
   "codemirror_mode": {
    "name": "ipython",
    "version": 3
   },
   "file_extension": ".py",
   "mimetype": "text/x-python",
   "name": "python",
   "nbconvert_exporter": "python",
   "pygments_lexer": "ipython3",
   "version": "3.8.8"
  }
 },
 "nbformat": 4,
 "nbformat_minor": 4
}
