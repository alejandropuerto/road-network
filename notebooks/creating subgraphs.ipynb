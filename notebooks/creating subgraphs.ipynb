{
 "cells": [
  {
   "cell_type": "code",
   "execution_count": 1,
   "metadata": {},
   "outputs": [
    {
     "data": {
      "text/plain": [
       "'1.0.0'"
      ]
     },
     "execution_count": 1,
     "metadata": {},
     "output_type": "execute_result"
    }
   ],
   "source": [
    "import matplotlib.cm as cm\n",
    "import matplotlib.colors as colors\n",
    "import matplotlib.pyplot as plt\n",
    "import networkx as nx\n",
    "import osmnx as ox\n",
    "import pandas as pd\n",
    "import geopandas as gpd\n",
    "from IPython.display import IFrame\n",
    "%matplotlib inline\n",
    "ox.__version__"
   ]
  },
  {
   "cell_type": "code",
   "execution_count": 2,
   "metadata": {},
   "outputs": [],
   "source": [
    "# turn response caching on and turn on logging to your terminal window\n",
    "ox.config(log_console=True, use_cache=True)"
   ]
  },
  {
   "cell_type": "code",
   "execution_count": 3,
   "metadata": {},
   "outputs": [],
   "source": [
    "#read the files from the Colonias folder using geopandas just as if we were using only pandas\n",
    "colonias = gpd.read_file('input_data/coloniasmexico/Colonias/')"
   ]
  },
  {
   "cell_type": "code",
   "execution_count": 4,
   "metadata": {},
   "outputs": [],
   "source": [
    "#query to filter only the colonias from Merida municipality of Yucatan state\n",
    "colonias_yucatan_merida = colonias[(colonias['ST_NAME']=='YUCATAN') & (colonias['MUN_NAME'] == 'MÉRIDA')]"
   ]
  },
  {
   "cell_type": "code",
   "execution_count": 5,
   "metadata": {},
   "outputs": [
    {
     "data": {
      "text/html": [
       "<div>\n",
       "<style scoped>\n",
       "    .dataframe tbody tr th:only-of-type {\n",
       "        vertical-align: middle;\n",
       "    }\n",
       "\n",
       "    .dataframe tbody tr th {\n",
       "        vertical-align: top;\n",
       "    }\n",
       "\n",
       "    .dataframe thead th {\n",
       "        text-align: right;\n",
       "    }\n",
       "</style>\n",
       "<table border=\"1\" class=\"dataframe\">\n",
       "  <thead>\n",
       "    <tr style=\"text-align: right;\">\n",
       "      <th></th>\n",
       "      <th>OBJECTID</th>\n",
       "      <th>POSTALCODE</th>\n",
       "      <th>ST_NAME</th>\n",
       "      <th>MUN_NAME</th>\n",
       "      <th>SETT_NAME</th>\n",
       "      <th>SETT_TYPE</th>\n",
       "      <th>AREA</th>\n",
       "      <th>Shape_Leng</th>\n",
       "      <th>Shape_Area</th>\n",
       "      <th>geometry</th>\n",
       "    </tr>\n",
       "  </thead>\n",
       "  <tbody>\n",
       "    <tr>\n",
       "      <th>56515</th>\n",
       "      <td>56516</td>\n",
       "      <td>97000</td>\n",
       "      <td>YUCATAN</td>\n",
       "      <td>MÉRIDA</td>\n",
       "      <td>BARRIO SAN SEBASTIAN</td>\n",
       "      <td>FRACCIONAMIENTO</td>\n",
       "      <td>724836804.0</td>\n",
       "      <td>0.028660</td>\n",
       "      <td>0.000038</td>\n",
       "      <td>POLYGON Z ((-89.63250 20.96072 0.00000, -89.63...</td>\n",
       "    </tr>\n",
       "    <tr>\n",
       "      <th>56516</th>\n",
       "      <td>56517</td>\n",
       "      <td>97000</td>\n",
       "      <td>YUCATAN</td>\n",
       "      <td>MÉRIDA</td>\n",
       "      <td>BARRIO SANTA ANA</td>\n",
       "      <td>FRACCIONAMIENTO</td>\n",
       "      <td>724836804.0</td>\n",
       "      <td>0.031112</td>\n",
       "      <td>0.000051</td>\n",
       "      <td>POLYGON Z ((-89.62424 20.97568 0.00000, -89.62...</td>\n",
       "    </tr>\n",
       "    <tr>\n",
       "      <th>56517</th>\n",
       "      <td>56518</td>\n",
       "      <td>97000</td>\n",
       "      <td>YUCATAN</td>\n",
       "      <td>MÉRIDA</td>\n",
       "      <td>BARRIO SANTIAGO</td>\n",
       "      <td>FRACCIONAMIENTO</td>\n",
       "      <td>724836804.0</td>\n",
       "      <td>0.023338</td>\n",
       "      <td>0.000034</td>\n",
       "      <td>POLYGON Z ((-89.62914 20.96978 0.00000, -89.62...</td>\n",
       "    </tr>\n",
       "  </tbody>\n",
       "</table>\n",
       "</div>"
      ],
      "text/plain": [
       "       OBJECTID POSTALCODE  ST_NAME MUN_NAME             SETT_NAME  \\\n",
       "56515     56516      97000  YUCATAN   MÉRIDA  BARRIO SAN SEBASTIAN   \n",
       "56516     56517      97000  YUCATAN   MÉRIDA      BARRIO SANTA ANA   \n",
       "56517     56518      97000  YUCATAN   MÉRIDA       BARRIO SANTIAGO   \n",
       "\n",
       "             SETT_TYPE         AREA  Shape_Leng  Shape_Area  \\\n",
       "56515  FRACCIONAMIENTO  724836804.0    0.028660    0.000038   \n",
       "56516  FRACCIONAMIENTO  724836804.0    0.031112    0.000051   \n",
       "56517  FRACCIONAMIENTO  724836804.0    0.023338    0.000034   \n",
       "\n",
       "                                                geometry  \n",
       "56515  POLYGON Z ((-89.63250 20.96072 0.00000, -89.63...  \n",
       "56516  POLYGON Z ((-89.62424 20.97568 0.00000, -89.62...  \n",
       "56517  POLYGON Z ((-89.62914 20.96978 0.00000, -89.62...  "
      ]
     },
     "execution_count": 5,
     "metadata": {},
     "output_type": "execute_result"
    }
   ],
   "source": [
    "colonias_yucatan_merida.head(3)"
   ]
  },
  {
   "cell_type": "code",
   "execution_count": 6,
   "metadata": {},
   "outputs": [],
   "source": [
    "# save/load graph as a graphml file: this is the best way to save your model\n",
    "# for subsequent work later\n",
    "# if you want to work with your model in gephi, use gephi compatibility mode\n",
    "\n",
    "filepath = './networks/merida-kanasin-road.graphml'\n",
    "#ox.save_graphml(G, filepath=filepath, gephi=False)\n",
    "G = ox.load_graphml(filepath)"
   ]
  },
  {
   "cell_type": "code",
   "execution_count": 7,
   "metadata": {},
   "outputs": [],
   "source": [
    "#extract nodes as a geodataframe\n",
    "nodes = ox.graph_to_gdfs(G, edges=False)"
   ]
  },
  {
   "cell_type": "code",
   "execution_count": 8,
   "metadata": {},
   "outputs": [
    {
     "name": "stdout",
     "output_type": "stream",
     "text": [
      "BARRIO SAN SEBASTIAN, MÉRIDA\n",
      "BARRIO SANTA ANA, MÉRIDA\n",
      "BARRIO SANTIAGO, MÉRIDA\n",
      "FRACC JARDINES DE SAN SEBASTIAN, MÉRIDA\n",
      "FRACC LA QUINTA, MÉRIDA\n",
      "FRACC LOS COCOS, MÉRIDA\n",
      "MERIDA CENTRO, MÉRIDA\n",
      "PETRONILA, MÉRIDA\n",
      "PRIV DEL MAESTRO, MÉRIDA\n"
     ]
    }
   ],
   "source": [
    "# for each colonia polygon, find intersecting nodes then induce subgraph\n",
    "j = 0\n",
    "subgraphs_colonias = [] #vector for storing subgraphs\n",
    "for i in range(colonias_yucatan_merida.size):\n",
    "    j = j+1\n",
    "    if j == 10: #only the first 10 colonia; just for testing\n",
    "        break\n",
    "        \n",
    "    polygon = colonias_yucatan_merida.iloc[i].geometry\n",
    "    colonia_name = colonias_yucatan_merida.iloc[i].SETT_NAME\n",
    "    mun_name = colonias_yucatan_merida.iloc[i].MUN_NAME\n",
    "    ob_id = colonias_yucatan_merida.iloc[i].OBJECTID\n",
    "\n",
    "    \n",
    "    try: \n",
    "        #try/except for handling empty graphs; \n",
    "        #if the graph is empty, NetworkX raises an error and stops the loop;\n",
    "        #this code ignores the empty graphs in the except statement\n",
    "        intersecting_nodes = nodes[nodes.intersects(polygon)].index\n",
    "        G_sub = G.subgraph(intersecting_nodes)\n",
    "        subgraphs_colonias.append(G_sub)\n",
    "        print(colonia_name+\", \"+mun_name)\n",
    "        #fig, ax = ox.plot_graph(G_sub)\n",
    "    except:\n",
    "        pass"
   ]
  },
  {
   "cell_type": "code",
   "execution_count": 41,
   "metadata": {},
   "outputs": [
    {
     "data": {
      "text/plain": [
       "9"
      ]
     },
     "execution_count": 41,
     "metadata": {},
     "output_type": "execute_result"
    }
   ],
   "source": [
    "len(subgraphs_colonias)"
   ]
  },
  {
   "cell_type": "code",
   "execution_count": 76,
   "metadata": {},
   "outputs": [
    {
     "data": {
      "text/plain": [
       "n                                                                                     30\n",
       "m                                                                                     38\n",
       "k_avg                                                                           2.533333\n",
       "intersection_count                                                                    28\n",
       "streets_per_node_avg                                                            3.466667\n",
       "streets_per_node_counts                                 {0: 0, 1: 2, 2: 0, 3: 10, 4: 18}\n",
       "streets_per_node_proportion            {0: 0.0, 1: 0.06666666666666667, 2: 0.0, 3: 0....\n",
       "edge_length_total                                                            4427.609000\n",
       "edge_length_avg                                                               116.516026\n",
       "street_length_total                                                          4288.085000\n",
       "street_length_avg                                                             119.113472\n",
       "street_segments_count                                                                 36\n",
       "node_density_km                                                                     None\n",
       "intersection_density_km                                                             None\n",
       "edge_density_km                                                                     None\n",
       "street_density_km                                                                   None\n",
       "circuity_avg                                                                    1.000102\n",
       "self_loop_proportion                                                            0.000000\n",
       "clean_intersection_count                                                            None\n",
       "clean_intersection_density_km                                                       None\n",
       "avg_neighbor_degree                    {325167879: 2.0, 315231882: 1.0, 287655839: 2....\n",
       "avg_neighbor_degree_avg                                                         1.200000\n",
       "avg_weighted_neighbor_degree           {325167879: 0.013126201867858527, 315231882: 0...\n",
       "avg_weighted_neighbor_degree_avg                                                0.018238\n",
       "degree_centrality                      {325167879: 0.06896551724137931, 315231882: 0....\n",
       "degree_centrality_avg                                                           0.087356\n",
       "clustering_coefficient                 {325167879: 0, 315231882: 0, 287655839: 0, 315...\n",
       "clustering_coefficient_avg                                                      0.000000\n",
       "clustering_coefficient_weighted        {325167879: 0, 315231882: 0, 287655839: 0, 315...\n",
       "clustering_coefficient_weighted_avg                                             0.000000\n",
       "pagerank                               {325167879: 0.03740006228808495, 315231882: 0....\n",
       "pagerank_max_node                                                              287661241\n",
       "pagerank_max                                                                    0.082180\n",
       "pagerank_min_node                                                              315231835\n",
       "pagerank_min                                                                    0.006921\n",
       "eccentricity                           {315232608: 1022.5500000000002, 315231938: 886...\n",
       "diameter                                                                     1286.675000\n",
       "radius                                                                        727.998000\n",
       "center                                                                       [287661241]\n",
       "periphery                                                                   [6363345517]\n",
       "closeness_centrality                   {325167879: 0.0010447274394703309, 315231882: ...\n",
       "closeness_centrality_avg                                                        0.000952\n",
       "betweenness_centrality                 {325167879: 0.0665024630541872, 315231882: 0.1...\n",
       "betweenness_centrality_avg                                                      0.070320\n",
       "dtype: object"
      ]
     },
     "execution_count": 76,
     "metadata": {},
     "output_type": "execute_result"
    }
   ],
   "source": [
    "# calculate basic and extended network stats, merge them together, and display\n",
    "stats = ox.basic_stats(subgraphs_colonias[0])\n",
    "extended_stats = ox.extended_stats(subgraphs_colonias[0], ecc=True, bc=True, cc=True)\n",
    "for key, value in extended_stats.items():\n",
    "    stats[key] = value\n",
    "pd.Series(stats)"
   ]
  },
  {
   "cell_type": "markdown",
   "metadata": {},
   "source": [
    "Streets/intersection counts and proportions are nested dicts inside the stats dict. To convert these stats to a pandas dataframe (to compare/analyze multiple networks against each other), just unpack these nested dicts first:"
   ]
  },
  {
   "cell_type": "code",
   "execution_count": 77,
   "metadata": {},
   "outputs": [
    {
     "data": {
      "text/html": [
       "<div>\n",
       "<style scoped>\n",
       "    .dataframe tbody tr th:only-of-type {\n",
       "        vertical-align: middle;\n",
       "    }\n",
       "\n",
       "    .dataframe tbody tr th {\n",
       "        vertical-align: top;\n",
       "    }\n",
       "\n",
       "    .dataframe thead th {\n",
       "        text-align: right;\n",
       "    }\n",
       "</style>\n",
       "<table border=\"1\" class=\"dataframe\">\n",
       "  <thead>\n",
       "    <tr style=\"text-align: right;\">\n",
       "      <th></th>\n",
       "      <th>value</th>\n",
       "    </tr>\n",
       "  </thead>\n",
       "  <tbody>\n",
       "    <tr>\n",
       "      <th>n</th>\n",
       "      <td>30.000000</td>\n",
       "    </tr>\n",
       "    <tr>\n",
       "      <th>m</th>\n",
       "      <td>38.000000</td>\n",
       "    </tr>\n",
       "    <tr>\n",
       "      <th>k_avg</th>\n",
       "      <td>2.533333</td>\n",
       "    </tr>\n",
       "    <tr>\n",
       "      <th>intersection_count</th>\n",
       "      <td>28.000000</td>\n",
       "    </tr>\n",
       "    <tr>\n",
       "      <th>streets_per_node_avg</th>\n",
       "      <td>3.466667</td>\n",
       "    </tr>\n",
       "    <tr>\n",
       "      <th>edge_length_total</th>\n",
       "      <td>4427.609000</td>\n",
       "    </tr>\n",
       "    <tr>\n",
       "      <th>edge_length_avg</th>\n",
       "      <td>116.516026</td>\n",
       "    </tr>\n",
       "    <tr>\n",
       "      <th>street_length_total</th>\n",
       "      <td>4288.085000</td>\n",
       "    </tr>\n",
       "    <tr>\n",
       "      <th>street_length_avg</th>\n",
       "      <td>119.113472</td>\n",
       "    </tr>\n",
       "    <tr>\n",
       "      <th>street_segments_count</th>\n",
       "      <td>36.000000</td>\n",
       "    </tr>\n",
       "    <tr>\n",
       "      <th>node_density_km</th>\n",
       "      <td>NaN</td>\n",
       "    </tr>\n",
       "    <tr>\n",
       "      <th>intersection_density_km</th>\n",
       "      <td>NaN</td>\n",
       "    </tr>\n",
       "    <tr>\n",
       "      <th>edge_density_km</th>\n",
       "      <td>NaN</td>\n",
       "    </tr>\n",
       "    <tr>\n",
       "      <th>street_density_km</th>\n",
       "      <td>NaN</td>\n",
       "    </tr>\n",
       "    <tr>\n",
       "      <th>circuity_avg</th>\n",
       "      <td>1.000102</td>\n",
       "    </tr>\n",
       "    <tr>\n",
       "      <th>self_loop_proportion</th>\n",
       "      <td>0.000000</td>\n",
       "    </tr>\n",
       "    <tr>\n",
       "      <th>clean_intersection_count</th>\n",
       "      <td>NaN</td>\n",
       "    </tr>\n",
       "    <tr>\n",
       "      <th>clean_intersection_density_km</th>\n",
       "      <td>NaN</td>\n",
       "    </tr>\n",
       "    <tr>\n",
       "      <th>int_0_count</th>\n",
       "      <td>0.000000</td>\n",
       "    </tr>\n",
       "    <tr>\n",
       "      <th>int_1_count</th>\n",
       "      <td>2.000000</td>\n",
       "    </tr>\n",
       "    <tr>\n",
       "      <th>int_2_count</th>\n",
       "      <td>0.000000</td>\n",
       "    </tr>\n",
       "    <tr>\n",
       "      <th>int_3_count</th>\n",
       "      <td>10.000000</td>\n",
       "    </tr>\n",
       "    <tr>\n",
       "      <th>int_4_count</th>\n",
       "      <td>18.000000</td>\n",
       "    </tr>\n",
       "    <tr>\n",
       "      <th>int_0_prop</th>\n",
       "      <td>0.000000</td>\n",
       "    </tr>\n",
       "    <tr>\n",
       "      <th>int_1_prop</th>\n",
       "      <td>0.066667</td>\n",
       "    </tr>\n",
       "    <tr>\n",
       "      <th>int_2_prop</th>\n",
       "      <td>0.000000</td>\n",
       "    </tr>\n",
       "    <tr>\n",
       "      <th>int_3_prop</th>\n",
       "      <td>0.333333</td>\n",
       "    </tr>\n",
       "    <tr>\n",
       "      <th>int_4_prop</th>\n",
       "      <td>0.600000</td>\n",
       "    </tr>\n",
       "  </tbody>\n",
       "</table>\n",
       "</div>"
      ],
      "text/plain": [
       "                                     value\n",
       "n                                30.000000\n",
       "m                                38.000000\n",
       "k_avg                             2.533333\n",
       "intersection_count               28.000000\n",
       "streets_per_node_avg              3.466667\n",
       "edge_length_total              4427.609000\n",
       "edge_length_avg                 116.516026\n",
       "street_length_total            4288.085000\n",
       "street_length_avg               119.113472\n",
       "street_segments_count            36.000000\n",
       "node_density_km                        NaN\n",
       "intersection_density_km                NaN\n",
       "edge_density_km                        NaN\n",
       "street_density_km                      NaN\n",
       "circuity_avg                      1.000102\n",
       "self_loop_proportion              0.000000\n",
       "clean_intersection_count               NaN\n",
       "clean_intersection_density_km          NaN\n",
       "int_0_count                       0.000000\n",
       "int_1_count                       2.000000\n",
       "int_2_count                       0.000000\n",
       "int_3_count                      10.000000\n",
       "int_4_count                      18.000000\n",
       "int_0_prop                        0.000000\n",
       "int_1_prop                        0.066667\n",
       "int_2_prop                        0.000000\n",
       "int_3_prop                        0.333333\n",
       "int_4_prop                        0.600000"
      ]
     },
     "execution_count": 77,
     "metadata": {},
     "output_type": "execute_result"
    }
   ],
   "source": [
    "# unpack dicts into individiual keys:values\n",
    "stats = ox.basic_stats(subgraphs_colonias[0])\n",
    "for k, count in stats['streets_per_node_counts'].items():\n",
    "    stats['int_{}_count'.format(k)] = count\n",
    "for k, proportion in stats['streets_per_node_proportion'].items():\n",
    "    stats['int_{}_prop'.format(k)] = proportion\n",
    "\n",
    "# delete the no longer needed dict elements\n",
    "del stats['streets_per_node_counts']\n",
    "del stats['streets_per_node_proportion']\n",
    "\n",
    "# load as a pandas dataframe\n",
    "pd.DataFrame(pd.Series(stats, name='value'))"
   ]
  },
  {
   "cell_type": "code",
   "execution_count": 61,
   "metadata": {},
   "outputs": [
    {
     "name": "stdout",
     "output_type": "stream",
     "text": [
      "[30, 38, 2.533333333333333, 28, 3.466666666666667, {0: 0, 1: 2, 2: 0, 3: 10, 4: 18}, {0: 0.0, 1: 0.06666666666666667, 2: 0.0, 3: 0.3333333333333333, 4: 0.6}, 4427.6089999999995, 116.51602631578946, 4288.085, 119.11347222222223, 36, None, None, None, None, 1.0001022692745687, 0.0, None, None, 46, 64, 2.782608695652174, 38, 3.1956521739130435, {0: 0, 1: 8, 2: 0, 3: 13, 4: 25}, {0: 0.0, 1: 0.17391304347826086, 2: 0.0, 3: 0.2826086956521739, 4: 0.5434782608695652}, 6807.298999999999, 106.36404687499999, 6392.377999999999, 112.14698245614034, 57, None, None, None, None, 1.0006172035802712, 0.0, None, None, 30, 43, 2.8666666666666667, 30, 3.8333333333333335, {0: 0, 1: 0, 2: 0, 3: 6, 4: 23, 5: 1}, {0: 0.0, 1: 0.0, 2: 0.0, 3: 0.2, 4: 0.7666666666666667, 5: 0.03333333333333333}, 5078.082000000001, 118.09493023255817, 5078.081999999999, 118.09493023255813, 43, None, None, None, None, 1.0000474417908707, 0.0, None, None, 8, 11, 2.75, 4, 2.0, {0: 0, 1: 4, 2: 0, 3: 4}, {0: 0.0, 1: 0.5, 2: 0.0, 3: 0.5}, 387.04799999999994, 35.186181818181815, 224.435, 37.405833333333334, 6, None, None, None, None, 0.9999980689497755, 0.0, None, None, 439, 781, 3.558086560364465, 409, 3.387243735763098, {0: 0, 1: 30, 2: 2, 3: 181, 4: 220, 5: 6}, {0: 0.0, 1: 0.0683371298405467, 2: 0.004555808656036446, 3: 0.4123006833712984, 4: 0.5011389521640092, 5: 0.01366742596810934}, 86964.2980000001, 111.3499334186941, 73631.5960000001, 113.10537019969294, 651, None, None, None, None, 1.013309108146606, 0.0, None, None, 23, 35, 3.0434782608695654, 22, 3.5652173913043477, {0: 0, 1: 1, 2: 0, 3: 7, 4: 15}, {0: 0.0, 1: 0.043478260869565216, 2: 0.0, 3: 0.30434782608695654, 4: 0.6521739130434783}, 3417.5160000000005, 97.6433142857143, 3272.719, 105.57158064516129, 31, None, None, None, None, 1.000897095796443, 0.0, None, None, 4, 1, 0.5, 3, 2.75, {0: 0, 1: 1, 2: 0, 3: 2, 4: 1}, {0: 0.0, 1: 0.25, 2: 0.0, 3: 0.5, 4: 0.25}, 47.873, 47.873, 47.873, 47.873, 1, None, None, None, None, 1.0000036484074712, 0.0, None, None]\n"
     ]
    }
   ],
   "source": [
    "vector = []\n",
    "for subgraph in subgraphs_colonias:\n",
    "    if subgraph.number_of_edges() != 0:\n",
    "        stats = ox.basic_stats(subgraph)\n",
    "        [vector.append(stats[elem]) for elem in stats]\n",
    "        #[vector.append(colonia1[elem])]\n",
    "    else:\n",
    "        pass\n",
    "print(vector)"
   ]
  }
 ],
 "metadata": {
  "kernelspec": {
   "display_name": "Python 3",
   "language": "python",
   "name": "python3"
  },
  "language_info": {
   "codemirror_mode": {
    "name": "ipython",
    "version": 3
   },
   "file_extension": ".py",
   "mimetype": "text/x-python",
   "name": "python",
   "nbconvert_exporter": "python",
   "pygments_lexer": "ipython3",
   "version": "3.8.1"
  }
 },
 "nbformat": 4,
 "nbformat_minor": 4
}
