{
 "cells": [
  {
   "cell_type": "code",
   "execution_count": 1,
   "metadata": {},
   "outputs": [
    {
     "data": {
      "text/plain": [
       "'1.0.0'"
      ]
     },
     "execution_count": 1,
     "metadata": {},
     "output_type": "execute_result"
    }
   ],
   "source": [
    "import matplotlib.cm as cm\n",
    "import matplotlib.colors as colors\n",
    "import matplotlib.pyplot as plt\n",
    "import networkx as nx\n",
    "import osmnx as ox\n",
    "import pandas as pd\n",
    "import geopandas as gpd\n",
    "from IPython.display import IFrame\n",
    "%matplotlib inline\n",
    "ox.__version__"
   ]
  },
  {
   "cell_type": "code",
   "execution_count": 2,
   "metadata": {},
   "outputs": [],
   "source": [
    "# turn response caching on and turn on logging to your terminal window\n",
    "ox.config(log_console=True, use_cache=True)"
   ]
  },
  {
   "cell_type": "code",
   "execution_count": 3,
   "metadata": {},
   "outputs": [],
   "source": [
    "#read the files from the Colonias folder using geopandas just as if we were using only pandas\n",
    "colonias = gpd.read_file('input_data/coloniasmexico/Colonias/')"
   ]
  },
  {
   "cell_type": "code",
   "execution_count": 4,
   "metadata": {},
   "outputs": [],
   "source": [
    "#query to filter only the colonias from Merida municipality of Yucatan state\n",
    "colonias_yucatan_merida = colonias[(colonias['ST_NAME']=='YUCATAN') & (colonias['MUN_NAME'] == 'MÉRIDA')]"
   ]
  },
  {
   "cell_type": "code",
   "execution_count": 5,
   "metadata": {},
   "outputs": [
    {
     "data": {
      "text/html": [
       "<div>\n",
       "<style scoped>\n",
       "    .dataframe tbody tr th:only-of-type {\n",
       "        vertical-align: middle;\n",
       "    }\n",
       "\n",
       "    .dataframe tbody tr th {\n",
       "        vertical-align: top;\n",
       "    }\n",
       "\n",
       "    .dataframe thead th {\n",
       "        text-align: right;\n",
       "    }\n",
       "</style>\n",
       "<table border=\"1\" class=\"dataframe\">\n",
       "  <thead>\n",
       "    <tr style=\"text-align: right;\">\n",
       "      <th></th>\n",
       "      <th>OBJECTID</th>\n",
       "      <th>POSTALCODE</th>\n",
       "      <th>ST_NAME</th>\n",
       "      <th>MUN_NAME</th>\n",
       "      <th>SETT_NAME</th>\n",
       "      <th>SETT_TYPE</th>\n",
       "      <th>AREA</th>\n",
       "      <th>Shape_Leng</th>\n",
       "      <th>Shape_Area</th>\n",
       "      <th>geometry</th>\n",
       "    </tr>\n",
       "  </thead>\n",
       "  <tbody>\n",
       "    <tr>\n",
       "      <th>56515</th>\n",
       "      <td>56516</td>\n",
       "      <td>97000</td>\n",
       "      <td>YUCATAN</td>\n",
       "      <td>MÉRIDA</td>\n",
       "      <td>BARRIO SAN SEBASTIAN</td>\n",
       "      <td>FRACCIONAMIENTO</td>\n",
       "      <td>724836804.0</td>\n",
       "      <td>0.028660</td>\n",
       "      <td>0.000038</td>\n",
       "      <td>POLYGON Z ((-89.63250 20.96072 0.00000, -89.63...</td>\n",
       "    </tr>\n",
       "    <tr>\n",
       "      <th>56516</th>\n",
       "      <td>56517</td>\n",
       "      <td>97000</td>\n",
       "      <td>YUCATAN</td>\n",
       "      <td>MÉRIDA</td>\n",
       "      <td>BARRIO SANTA ANA</td>\n",
       "      <td>FRACCIONAMIENTO</td>\n",
       "      <td>724836804.0</td>\n",
       "      <td>0.031112</td>\n",
       "      <td>0.000051</td>\n",
       "      <td>POLYGON Z ((-89.62424 20.97568 0.00000, -89.62...</td>\n",
       "    </tr>\n",
       "    <tr>\n",
       "      <th>56517</th>\n",
       "      <td>56518</td>\n",
       "      <td>97000</td>\n",
       "      <td>YUCATAN</td>\n",
       "      <td>MÉRIDA</td>\n",
       "      <td>BARRIO SANTIAGO</td>\n",
       "      <td>FRACCIONAMIENTO</td>\n",
       "      <td>724836804.0</td>\n",
       "      <td>0.023338</td>\n",
       "      <td>0.000034</td>\n",
       "      <td>POLYGON Z ((-89.62914 20.96978 0.00000, -89.62...</td>\n",
       "    </tr>\n",
       "  </tbody>\n",
       "</table>\n",
       "</div>"
      ],
      "text/plain": [
       "       OBJECTID POSTALCODE  ST_NAME MUN_NAME             SETT_NAME  \\\n",
       "56515     56516      97000  YUCATAN   MÉRIDA  BARRIO SAN SEBASTIAN   \n",
       "56516     56517      97000  YUCATAN   MÉRIDA      BARRIO SANTA ANA   \n",
       "56517     56518      97000  YUCATAN   MÉRIDA       BARRIO SANTIAGO   \n",
       "\n",
       "             SETT_TYPE         AREA  Shape_Leng  Shape_Area  \\\n",
       "56515  FRACCIONAMIENTO  724836804.0    0.028660    0.000038   \n",
       "56516  FRACCIONAMIENTO  724836804.0    0.031112    0.000051   \n",
       "56517  FRACCIONAMIENTO  724836804.0    0.023338    0.000034   \n",
       "\n",
       "                                                geometry  \n",
       "56515  POLYGON Z ((-89.63250 20.96072 0.00000, -89.63...  \n",
       "56516  POLYGON Z ((-89.62424 20.97568 0.00000, -89.62...  \n",
       "56517  POLYGON Z ((-89.62914 20.96978 0.00000, -89.62...  "
      ]
     },
     "execution_count": 5,
     "metadata": {},
     "output_type": "execute_result"
    }
   ],
   "source": [
    "colonias_yucatan_merida.head(3)"
   ]
  },
  {
   "cell_type": "code",
   "execution_count": 6,
   "metadata": {},
   "outputs": [],
   "source": [
    "# save/load graph as a graphml file: this is the best way to save your model\n",
    "# for subsequent work later\n",
    "# if you want to work with your model in gephi, use gephi compatibility mode\n",
    "\n",
    "filepath = './networks/merida-kanasin-road.graphml'\n",
    "#ox.save_graphml(G, filepath=filepath, gephi=False)\n",
    "G = ox.load_graphml(filepath)"
   ]
  },
  {
   "cell_type": "code",
   "execution_count": 7,
   "metadata": {},
   "outputs": [],
   "source": [
    "#extract nodes as a geodataframe\n",
    "nodes = ox.graph_to_gdfs(G, edges=False)"
   ]
  },
  {
   "cell_type": "code",
   "execution_count": 29,
   "metadata": {},
   "outputs": [
    {
     "name": "stdout",
     "output_type": "stream",
     "text": [
      "BARRIO SAN SEBASTIAN, MÉRIDA\n",
      "BARRIO SANTA ANA, MÉRIDA\n",
      "BARRIO SANTIAGO, MÉRIDA\n",
      "FRACC JARDINES DE SAN SEBASTIAN, MÉRIDA\n",
      "FRACC LA QUINTA, MÉRIDA\n",
      "FRACC LOS COCOS, MÉRIDA\n",
      "MERIDA CENTRO, MÉRIDA\n",
      "PETRONILA, MÉRIDA\n",
      "PRIV DEL MAESTRO, MÉRIDA\n"
     ]
    }
   ],
   "source": [
    "# for each colonia polygon, find intersecting nodes then induce subgraph\n",
    "j = 0\n",
    "subgraphs_colonias = [] #vector for storing subgraphs\n",
    "for i in range(colonias_yucatan_merida.size):\n",
    "    j = j+1\n",
    "    if j == 10: #only the first 10 colonia; just for testing\n",
    "        break\n",
    "        \n",
    "    polygon = colonias_yucatan_merida.iloc[i].geometry\n",
    "    colonia_name = colonias_yucatan_merida.iloc[i].SETT_NAME\n",
    "    mun_name = colonias_yucatan_merida.iloc[i].MUN_NAME\n",
    "    ob_id = colonias_yucatan_merida.iloc[i].OBJECTID\n",
    "\n",
    "    \n",
    "    try:\n",
    "        intersecting_nodes = nodes[nodes.intersects(polygon)].index\n",
    "        G_sub = G.subgraph(intersecting_nodes)\n",
    "        subgraphs_colonias.append(G_sub)\n",
    "        print(colonia_name+\", \"+mun_name)\n",
    "        #fig, ax = ox.plot_graph(G_sub)\n",
    "    except:\n",
    "        pass"
   ]
  },
  {
   "cell_type": "code",
   "execution_count": 32,
   "metadata": {},
   "outputs": [
    {
     "data": {
      "text/plain": [
       "[<networkx.classes.multidigraph.MultiDiGraph at 0x7fa2aaece4c0>,\n",
       " <networkx.classes.multidigraph.MultiDiGraph at 0x7fa2aaece6a0>,\n",
       " <networkx.classes.multidigraph.MultiDiGraph at 0x7fa2aaece910>,\n",
       " <networkx.classes.multidigraph.MultiDiGraph at 0x7fa2aaece400>,\n",
       " <networkx.classes.multidigraph.MultiDiGraph at 0x7fa2aaece5b0>,\n",
       " <networkx.classes.multidigraph.MultiDiGraph at 0x7fa2aaecedf0>,\n",
       " <networkx.classes.multidigraph.MultiDiGraph at 0x7fa2aaea21f0>,\n",
       " <networkx.classes.multidigraph.MultiDiGraph at 0x7fa2aaea2400>,\n",
       " <networkx.classes.multidigraph.MultiDiGraph at 0x7fa2aaea25b0>]"
      ]
     },
     "execution_count": 32,
     "metadata": {},
     "output_type": "execute_result"
    }
   ],
   "source": [
    "subgraphs_colonias"
   ]
  },
  {
   "cell_type": "code",
   "execution_count": null,
   "metadata": {},
   "outputs": [],
   "source": []
  }
 ],
 "metadata": {
  "kernelspec": {
   "display_name": "Python 3",
   "language": "python",
   "name": "python3"
  },
  "language_info": {
   "codemirror_mode": {
    "name": "ipython",
    "version": 3
   },
   "file_extension": ".py",
   "mimetype": "text/x-python",
   "name": "python",
   "nbconvert_exporter": "python",
   "pygments_lexer": "ipython3",
   "version": "3.8.1"
  }
 },
 "nbformat": 4,
 "nbformat_minor": 4
}
