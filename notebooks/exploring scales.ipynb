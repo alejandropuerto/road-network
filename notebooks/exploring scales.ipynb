{
 "cells": [
  {
   "cell_type": "code",
   "execution_count": 10,
   "metadata": {},
   "outputs": [
    {
     "data": {
      "text/plain": [
       "'1.0.0'"
      ]
     },
     "execution_count": 10,
     "metadata": {},
     "output_type": "execute_result"
    }
   ],
   "source": [
    "import matplotlib.cm as cm\n",
    "import matplotlib.colors as colors\n",
    "import matplotlib.pyplot as plt\n",
    "import networkx as nx\n",
    "import osmnx as ox\n",
    "import pandas as pd\n",
    "from IPython.display import IFrame\n",
    "%matplotlib inline\n",
    "ox.__version__"
   ]
  },
  {
   "cell_type": "markdown",
   "metadata": {},
   "source": [
    "You can configure OSMnx using `ox.config()`. See the [documentation](https://osmnx.readthedocs.io/en/stable/osmnx.html#osmnx.utils.config) for the settings you can configure. For example, by default OSMnx caches all server responses to prevent repeatedly hitting the server for the same query every time you run it. This both makes our code faster on subsequent runs and helps us be a \\\"good neighbor\\\" to the server. But you can turn caching off (or back on again) with the `use_cache` parameter. Any parameters not passed to the config function are (re-)set to their original default values whenever you call it. API responses can be cached locally so OSMnx doesn't have to request the same data from the API multiple times: saving bandwidth, increasing speed, and enabling reproducibility."
   ]
  },
  {
   "cell_type": "code",
   "execution_count": null,
   "metadata": {},
   "outputs": [],
   "source": [
    "# turn response caching on and turn on logging to your terminal window\n",
    "ox.config(log_console=True, use_cache=True)"
   ]
  },
  {
   "cell_type": "markdown",
   "metadata": {},
   "source": [
    "## 1. Query place boundaries\n",
    "\n",
    "The `graph_from_place` function uses place boundary geocoding logic to find the network within your place's boundary. Let's look briefly at this place boundary querying before we get to street networks. You can download by cities, neighborhoods, boroughs, counties, states, or countries: anything with geocodable polygon boundaries in OSM's database. Notice the polygon geometries represent political boundaries, not physical/land boundaries. OSMnx will turn your geocoded place (or multiple places) boundaries into a geopandas GeoDataFrame."
   ]
  },
  {
   "cell_type": "code",
   "execution_count": 49,
   "metadata": {},
   "outputs": [],
   "source": [
    "# make query an unambiguous dict to help the geocoder find specifically what you're looking for\n",
    "#note that when getting boundaries for cities, county must be passed \n",
    "places = [{#'city' : 'Merida',\n",
    "           'county': 'Merida',\n",
    "         'state' : 'Yucatan',\n",
    "         'country' : 'Mexico'},\n",
    "         {#'city' : 'Kanasin',\n",
    "          'county': 'Kanasin',\n",
    "         'state' : 'Yucatan',\n",
    "         'country' : 'Mexico'}]"
   ]
  },
  {
   "cell_type": "markdown",
   "metadata": {},
   "source": [
    "Get the boundary polygon for Merida and Kanasin county, project it, and plot it"
   ]
  },
  {
   "cell_type": "code",
   "execution_count": 50,
   "metadata": {},
   "outputs": [],
   "source": [
    "city = ox.geocode_to_gdf(places)"
   ]
  },
  {
   "cell_type": "code",
   "execution_count": 51,
   "metadata": {},
   "outputs": [],
   "source": [
    "city_proj = ox.project_gdf(city)"
   ]
  },
  {
   "cell_type": "code",
   "execution_count": 59,
   "metadata": {},
   "outputs": [
    {
     "data": {
      "image/png": "[encoded data removed]",
      "text/plain": [
       "<Figure size 432x288 with 1 Axes>"
      ]
     },
     "metadata": {
      "needs_background": "light"
     },
     "output_type": "display_data"
    }
   ],
   "source": [
    "ax = city_proj.plot(facecolor='gray', edgecolor='black')\n",
    "_ = ax.axis('off')"
   ]
  },
  {
   "cell_type": "code",
   "execution_count": 11,
   "metadata": {},
   "outputs": [
    {
     "data": {
      "text/html": [
       "<div>\n",
       "<style scoped>\n",
       "    .dataframe tbody tr th:only-of-type {\n",
       "        vertical-align: middle;\n",
       "    }\n",
       "\n",
       "    .dataframe tbody tr th {\n",
       "        vertical-align: top;\n",
       "    }\n",
       "\n",
       "    .dataframe thead th {\n",
       "        text-align: right;\n",
       "    }\n",
       "</style>\n",
       "<table border=\"1\" class=\"dataframe\">\n",
       "  <thead>\n",
       "    <tr style=\"text-align: right;\">\n",
       "      <th></th>\n",
       "      <th>geometry</th>\n",
       "      <th>bbox_north</th>\n",
       "      <th>bbox_south</th>\n",
       "      <th>bbox_east</th>\n",
       "      <th>bbox_west</th>\n",
       "      <th>place_id</th>\n",
       "      <th>osm_type</th>\n",
       "      <th>osm_id</th>\n",
       "      <th>lat</th>\n",
       "      <th>lon</th>\n",
       "      <th>display_name</th>\n",
       "      <th>class</th>\n",
       "      <th>type</th>\n",
       "      <th>importance</th>\n",
       "    </tr>\n",
       "  </thead>\n",
       "  <tbody>\n",
       "    <tr>\n",
       "      <th>0</th>\n",
       "      <td>POLYGON ((-89.72620 20.99887, -89.72609 20.995...</td>\n",
       "      <td>21.092045</td>\n",
       "      <td>20.873309</td>\n",
       "      <td>-89.530168</td>\n",
       "      <td>-89.726196</td>\n",
       "      <td>258846918</td>\n",
       "      <td>relation</td>\n",
       "      <td>6265959</td>\n",
       "      <td>20.967076</td>\n",
       "      <td>-89.623740</td>\n",
       "      <td>Mérida, Yucatán, Mexico</td>\n",
       "      <td>boundary</td>\n",
       "      <td>administrative</td>\n",
       "      <td>0.621259</td>\n",
       "    </tr>\n",
       "    <tr>\n",
       "      <th>1</th>\n",
       "      <td>POLYGON ((-89.59536 20.92989, -89.59535 20.929...</td>\n",
       "      <td>20.982075</td>\n",
       "      <td>20.904644</td>\n",
       "      <td>-89.534440</td>\n",
       "      <td>-89.595365</td>\n",
       "      <td>259335465</td>\n",
       "      <td>relation</td>\n",
       "      <td>6333674</td>\n",
       "      <td>20.935047</td>\n",
       "      <td>-89.557724</td>\n",
       "      <td>Kanasín, Yucatán, 97370, Mexico</td>\n",
       "      <td>boundary</td>\n",
       "      <td>administrative</td>\n",
       "      <td>0.373581</td>\n",
       "    </tr>\n",
       "  </tbody>\n",
       "</table>\n",
       "</div>"
      ],
      "text/plain": [
       "                                            geometry  bbox_north  bbox_south  \\\n",
       "0  POLYGON ((-89.72620 20.99887, -89.72609 20.995...   21.092045   20.873309   \n",
       "1  POLYGON ((-89.59536 20.92989, -89.59535 20.929...   20.982075   20.904644   \n",
       "\n",
       "   bbox_east  bbox_west   place_id  osm_type   osm_id        lat        lon  \\\n",
       "0 -89.530168 -89.726196  258846918  relation  6265959  20.967076 -89.623740   \n",
       "1 -89.534440 -89.595365  259335465  relation  6333674  20.935047 -89.557724   \n",
       "\n",
       "                      display_name     class            type  importance  \n",
       "0          Mérida, Yucatán, Mexico  boundary  administrative    0.621259  \n",
       "1  Kanasín, Yucatán, 97370, Mexico  boundary  administrative    0.373581  "
      ]
     },
     "execution_count": 11,
     "metadata": {},
     "output_type": "execute_result"
    }
   ],
   "source": [
    "city"
   ]
  },
  {
   "cell_type": "code",
   "execution_count": 3,
   "metadata": {},
   "outputs": [],
   "source": []
  },
  {
   "cell_type": "code",
   "execution_count": 4,
   "metadata": {},
   "outputs": [],
   "source": [
    "# download and project a street network\n",
    "G = ox.graph_from_place(places, network_type='drive')"
   ]
  },
  {
   "cell_type": "code",
   "execution_count": null,
   "metadata": {},
   "outputs": [],
   "source": []
  }
 ],
 "metadata": {
  "kernelspec": {
   "display_name": "Python 3",
   "language": "python",
   "name": "python3"
  },
  "language_info": {
   "codemirror_mode": {
    "name": "ipython",
    "version": 3
   },
   "file_extension": ".py",
   "mimetype": "text/x-python",
   "name": "python",
   "nbconvert_exporter": "python",
   "pygments_lexer": "ipython3",
   "version": "3.8.1"
  }
 },
 "nbformat": 4,
 "nbformat_minor": 4
}
