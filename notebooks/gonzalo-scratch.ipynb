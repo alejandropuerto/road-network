{
 "cells": [
  {
   "cell_type": "code",
   "execution_count": 1,
   "metadata": {},
   "outputs": [
    {
     "data": {
      "text/plain": [
       "'1.0.1'"
      ]
     },
     "execution_count": 1,
     "metadata": {},
     "output_type": "execute_result"
    }
   ],
   "source": [
    "import matplotlib.cm as cm\n",
    "import matplotlib.colors as colors\n",
    "import matplotlib.pyplot as plt\n",
    "import networkx as nx\n",
    "import osmnx as ox\n",
    "import pandas as pd\n",
    "import geopandas as gpd\n",
    "from IPython.display import IFrame\n",
    "import pathlib\n",
    "import datetime as dt\n",
    "\n",
    "%matplotlib inline\n",
    "\n",
    "# turn response caching on and turn on logging to your terminal window\n",
    "ox.config(log_console=True, use_cache=True)\n",
    "\n",
    "ox.__version__"
   ]
  },
  {
   "cell_type": "markdown",
   "metadata": {},
   "source": [
    "# Network download and projection"
   ]
  },
  {
   "cell_type": "markdown",
   "metadata": {},
   "source": [
    "In the following, we define a function to download the graph for the city of Mérida, Yucatán, or, if already present, load it as an NetworkX graph object."
   ]
  },
  {
   "cell_type": "code",
   "execution_count": 2,
   "metadata": {},
   "outputs": [
    {
     "name": "stdout",
     "output_type": "stream",
     "text": [
      "Graph created at: 2021-02-11 09:51:33\n",
      "Graph created at: 2021-02-11 09:51:33\n"
     ]
    }
   ],
   "source": [
    "places = [{'county' : 'Merida',\n",
    "           'state' : 'Yucatan',\n",
    "           'country' : 'Mexico'},\n",
    "          {'county' : 'Kanasin',\n",
    "           'state' : 'Yucatan',\n",
    "           'country' : 'Mexico'}]\n",
    "\n",
    "def get_roads_osmnx(places, update=False, proj=False):\n",
    "\n",
    "    dirpath = pathlib.Path('./networks/')\n",
    "    filepath = dirpath/'merida-kanasin-road.graphml'\n",
    "    logpath = dirpath/'log'\n",
    "                                    \n",
    "    if filepath.exists() and not update:\n",
    "        G = ox.load_graphml(filepath)\n",
    "    else:\n",
    "        # get drivable public streets network, aka road network, without service roads,\n",
    "        # e.g. private, parking lots, etc.\n",
    "        # use retain_all if you want to keep all disconnected subgraphs (e.g. when your places aren't adjacent)\n",
    "        # TODO: It would be nice to setup up a polygon for the city and its surrounding areas, to be sure\n",
    "        # exactly the location.\n",
    "        G = ox.graph_from_place(places, network_type='drive')\n",
    "        ox.save_graphml(G, filepath=filepath, gephi=False)\n",
    "        \n",
    "    if proj:\n",
    "        G = ox.project_graph(G)\n",
    "    \n",
    "    print(f\"Graph created at: {G.graph['created_date']}\")\n",
    "    return G, *ox.graph_to_gdfs(G)\n",
    "        \n",
    "G, nodes, edges = get_roads_osmnx(places, update=False)\n",
    "G_proj, nodes_proj, edges_proj = get_roads_osmnx(places, update=False, proj=True)"
   ]
  },
  {
   "cell_type": "code",
   "execution_count": 49,
   "metadata": {},
   "outputs": [
    {
     "data": {
      "text/plain": [
       "{'created_date': '2021-02-11 09:51:33',\n",
       " 'created_with': 'OSMnx 1.0.1',\n",
       " 'crs': 'epsg:4326',\n",
       " 'simplified': True}"
      ]
     },
     "execution_count": 49,
     "metadata": {},
     "output_type": "execute_result"
    }
   ],
   "source": [
    "G.graph"
   ]
  },
  {
   "cell_type": "code",
   "execution_count": 53,
   "metadata": {},
   "outputs": [
    {
     "data": {
      "text/plain": [
       "{'created_date': '2021-02-11 09:51:33',\n",
       " 'created_with': 'OSMnx 1.0.1',\n",
       " 'crs': <Projected CRS: +proj=utm +zone=16 +ellps=WGS84 +datum=WGS84 +unit ...>\n",
       " Name: unknown\n",
       " Axis Info [cartesian]:\n",
       " - E[east]: Easting (metre)\n",
       " - N[north]: Northing (metre)\n",
       " Area of Use:\n",
       " - undefined\n",
       " Coordinate Operation:\n",
       " - name: UTM zone 16N\n",
       " - method: Transverse Mercator\n",
       " Datum: World Geodetic System 1984\n",
       " - Ellipsoid: WGS 84\n",
       " - Prime Meridian: Greenwich,\n",
       " 'simplified': True}"
      ]
     },
     "execution_count": 53,
     "metadata": {},
     "output_type": "execute_result"
    }
   ],
   "source": [
    "G_proj.graph"
   ]
  },
  {
   "cell_type": "markdown",
   "metadata": {},
   "source": [
    "The original graph is a lat-long graph, meaning units are in degrees. A useful projection is UTM, which handles units in meters. For more info read: https://docs.qgis.org/3.16/en/docs/gentle_gis_introduction/coordinate_reference_systems.html. The projected stores orignal lat-long coordinates as attributes for nodes.\n",
    "\n",
    "Given that some projections are more suited for different applications, we now keep both graphs. For example, the UTM projection is best for areas, while maybe the lat-long is best for calculations involving angles (maybe? TODO, confirm). TODO: Find more info on this, meybe is enough to keep UTM, since it uses meters, and we are more used to them.\n",
    "\n",
    "If working with latlong, the haversine distance should be used, in UTM euclidian distance is appropriate. omsnx docs reccomend using projected coordinates for most distance based calculations. Bearing calculations require lat-long coords."
   ]
  },
  {
   "cell_type": "markdown",
   "metadata": {},
   "source": [
    "It is also useful to obtein geopandas dataframes for nodes and edges separately."
   ]
  },
  {
   "cell_type": "code",
   "execution_count": 50,
   "metadata": {},
   "outputs": [
    {
     "data": {
      "text/html": [
       "<div>\n",
       "<style scoped>\n",
       "    .dataframe tbody tr th:only-of-type {\n",
       "        vertical-align: middle;\n",
       "    }\n",
       "\n",
       "    .dataframe tbody tr th {\n",
       "        vertical-align: top;\n",
       "    }\n",
       "\n",
       "    .dataframe thead th {\n",
       "        text-align: right;\n",
       "    }\n",
       "</style>\n",
       "<table border=\"1\" class=\"dataframe\">\n",
       "  <thead>\n",
       "    <tr style=\"text-align: right;\">\n",
       "      <th></th>\n",
       "      <th>y</th>\n",
       "      <th>x</th>\n",
       "      <th>street_count</th>\n",
       "      <th>highway</th>\n",
       "      <th>geometry</th>\n",
       "    </tr>\n",
       "    <tr>\n",
       "      <th>osmid</th>\n",
       "      <th></th>\n",
       "      <th></th>\n",
       "      <th></th>\n",
       "      <th></th>\n",
       "      <th></th>\n",
       "    </tr>\n",
       "  </thead>\n",
       "  <tbody>\n",
       "    <tr>\n",
       "      <th>286974477</th>\n",
       "      <td>20.900216</td>\n",
       "      <td>-89.509268</td>\n",
       "      <td>4</td>\n",
       "      <td>NaN</td>\n",
       "      <td>POINT (-89.50927 20.90022)</td>\n",
       "    </tr>\n",
       "    <tr>\n",
       "      <th>286974740</th>\n",
       "      <td>20.905018</td>\n",
       "      <td>-89.526717</td>\n",
       "      <td>3</td>\n",
       "      <td>NaN</td>\n",
       "      <td>POINT (-89.52672 20.90502)</td>\n",
       "    </tr>\n",
       "    <tr>\n",
       "      <th>286974743</th>\n",
       "      <td>20.924688</td>\n",
       "      <td>-89.560150</td>\n",
       "      <td>4</td>\n",
       "      <td>NaN</td>\n",
       "      <td>POINT (-89.56015 20.92469)</td>\n",
       "    </tr>\n",
       "    <tr>\n",
       "      <th>287020194</th>\n",
       "      <td>20.896659</td>\n",
       "      <td>-89.647519</td>\n",
       "      <td>3</td>\n",
       "      <td>NaN</td>\n",
       "      <td>POINT (-89.64752 20.89666)</td>\n",
       "    </tr>\n",
       "    <tr>\n",
       "      <th>287020195</th>\n",
       "      <td>20.908412</td>\n",
       "      <td>-89.625401</td>\n",
       "      <td>3</td>\n",
       "      <td>NaN</td>\n",
       "      <td>POINT (-89.62540 20.90841)</td>\n",
       "    </tr>\n",
       "  </tbody>\n",
       "</table>\n",
       "</div>"
      ],
      "text/plain": [
       "                   y          x  street_count highway  \\\n",
       "osmid                                                   \n",
       "286974477  20.900216 -89.509268             4     NaN   \n",
       "286974740  20.905018 -89.526717             3     NaN   \n",
       "286974743  20.924688 -89.560150             4     NaN   \n",
       "287020194  20.896659 -89.647519             3     NaN   \n",
       "287020195  20.908412 -89.625401             3     NaN   \n",
       "\n",
       "                             geometry  \n",
       "osmid                                  \n",
       "286974477  POINT (-89.50927 20.90022)  \n",
       "286974740  POINT (-89.52672 20.90502)  \n",
       "286974743  POINT (-89.56015 20.92469)  \n",
       "287020194  POINT (-89.64752 20.89666)  \n",
       "287020195  POINT (-89.62540 20.90841)  "
      ]
     },
     "execution_count": 50,
     "metadata": {},
     "output_type": "execute_result"
    }
   ],
   "source": [
    "nodes.head()"
   ]
  },
  {
   "cell_type": "code",
   "execution_count": 43,
   "metadata": {},
   "outputs": [
    {
     "data": {
      "text/html": [
       "<div>\n",
       "<style scoped>\n",
       "    .dataframe tbody tr th:only-of-type {\n",
       "        vertical-align: middle;\n",
       "    }\n",
       "\n",
       "    .dataframe tbody tr th {\n",
       "        vertical-align: top;\n",
       "    }\n",
       "\n",
       "    .dataframe thead th {\n",
       "        text-align: right;\n",
       "    }\n",
       "</style>\n",
       "<table border=\"1\" class=\"dataframe\">\n",
       "  <thead>\n",
       "    <tr style=\"text-align: right;\">\n",
       "      <th></th>\n",
       "      <th>y</th>\n",
       "      <th>x</th>\n",
       "      <th>street_count</th>\n",
       "      <th>lon</th>\n",
       "      <th>lat</th>\n",
       "      <th>highway</th>\n",
       "      <th>geometry</th>\n",
       "    </tr>\n",
       "    <tr>\n",
       "      <th>osmid</th>\n",
       "      <th></th>\n",
       "      <th></th>\n",
       "      <th></th>\n",
       "      <th></th>\n",
       "      <th></th>\n",
       "      <th></th>\n",
       "      <th></th>\n",
       "    </tr>\n",
       "  </thead>\n",
       "  <tbody>\n",
       "    <tr>\n",
       "      <th>286974477</th>\n",
       "      <td>2.313144e+06</td>\n",
       "      <td>238979.238129</td>\n",
       "      <td>4</td>\n",
       "      <td>-89.509268</td>\n",
       "      <td>20.900216</td>\n",
       "      <td>NaN</td>\n",
       "      <td>POINT (238979.238 2313144.246)</td>\n",
       "    </tr>\n",
       "    <tr>\n",
       "      <th>5443055966</th>\n",
       "      <td>2.312975e+06</td>\n",
       "      <td>238942.058329</td>\n",
       "      <td>3</td>\n",
       "      <td>-89.509599</td>\n",
       "      <td>20.898686</td>\n",
       "      <td>NaN</td>\n",
       "      <td>POINT (238942.058 2312975.392)</td>\n",
       "    </tr>\n",
       "    <tr>\n",
       "      <th>2198242153</th>\n",
       "      <td>2.313560e+06</td>\n",
       "      <td>238272.588602</td>\n",
       "      <td>3</td>\n",
       "      <td>-89.516119</td>\n",
       "      <td>20.903869</td>\n",
       "      <td>NaN</td>\n",
       "      <td>POINT (238272.589 2313559.995)</td>\n",
       "    </tr>\n",
       "    <tr>\n",
       "      <th>286974740</th>\n",
       "      <td>2.313705e+06</td>\n",
       "      <td>237171.587836</td>\n",
       "      <td>3</td>\n",
       "      <td>-89.526717</td>\n",
       "      <td>20.905018</td>\n",
       "      <td>NaN</td>\n",
       "      <td>POINT (237171.588 2313704.613)</td>\n",
       "    </tr>\n",
       "    <tr>\n",
       "      <th>2198242162</th>\n",
       "      <td>2.313341e+06</td>\n",
       "      <td>237532.107574</td>\n",
       "      <td>3</td>\n",
       "      <td>-89.523199</td>\n",
       "      <td>20.901791</td>\n",
       "      <td>NaN</td>\n",
       "      <td>POINT (237532.108 2313341.400)</td>\n",
       "    </tr>\n",
       "  </tbody>\n",
       "</table>\n",
       "</div>"
      ],
      "text/plain": [
       "                       y              x  street_count        lon        lat  \\\n",
       "osmid                                                                         \n",
       "286974477   2.313144e+06  238979.238129             4 -89.509268  20.900216   \n",
       "5443055966  2.312975e+06  238942.058329             3 -89.509599  20.898686   \n",
       "2198242153  2.313560e+06  238272.588602             3 -89.516119  20.903869   \n",
       "286974740   2.313705e+06  237171.587836             3 -89.526717  20.905018   \n",
       "2198242162  2.313341e+06  237532.107574             3 -89.523199  20.901791   \n",
       "\n",
       "           highway                        geometry  \n",
       "osmid                                               \n",
       "286974477      NaN  POINT (238979.238 2313144.246)  \n",
       "5443055966     NaN  POINT (238942.058 2312975.392)  \n",
       "2198242153     NaN  POINT (238272.589 2313559.995)  \n",
       "286974740      NaN  POINT (237171.588 2313704.613)  \n",
       "2198242162     NaN  POINT (237532.108 2313341.400)  "
      ]
     },
     "execution_count": 43,
     "metadata": {},
     "output_type": "execute_result"
    }
   ],
   "source": [
    "nodes_proj.head()"
   ]
  },
  {
   "cell_type": "code",
   "execution_count": 44,
   "metadata": {},
   "outputs": [
    {
     "data": {
      "text/html": [
       "<div>\n",
       "<style scoped>\n",
       "    .dataframe tbody tr th:only-of-type {\n",
       "        vertical-align: middle;\n",
       "    }\n",
       "\n",
       "    .dataframe tbody tr th {\n",
       "        vertical-align: top;\n",
       "    }\n",
       "\n",
       "    .dataframe thead th {\n",
       "        text-align: right;\n",
       "    }\n",
       "</style>\n",
       "<table border=\"1\" class=\"dataframe\">\n",
       "  <thead>\n",
       "    <tr style=\"text-align: right;\">\n",
       "      <th></th>\n",
       "      <th></th>\n",
       "      <th></th>\n",
       "      <th>osmid</th>\n",
       "      <th>oneway</th>\n",
       "      <th>ref</th>\n",
       "      <th>highway</th>\n",
       "      <th>maxspeed</th>\n",
       "      <th>length</th>\n",
       "      <th>geometry</th>\n",
       "      <th>name</th>\n",
       "      <th>lanes</th>\n",
       "      <th>bridge</th>\n",
       "      <th>junction</th>\n",
       "      <th>tunnel</th>\n",
       "      <th>access</th>\n",
       "      <th>width</th>\n",
       "    </tr>\n",
       "    <tr>\n",
       "      <th>u</th>\n",
       "      <th>v</th>\n",
       "      <th>key</th>\n",
       "      <th></th>\n",
       "      <th></th>\n",
       "      <th></th>\n",
       "      <th></th>\n",
       "      <th></th>\n",
       "      <th></th>\n",
       "      <th></th>\n",
       "      <th></th>\n",
       "      <th></th>\n",
       "      <th></th>\n",
       "      <th></th>\n",
       "      <th></th>\n",
       "      <th></th>\n",
       "      <th></th>\n",
       "    </tr>\n",
       "  </thead>\n",
       "  <tbody>\n",
       "    <tr>\n",
       "      <th rowspan=\"2\" valign=\"top\">286974477</th>\n",
       "      <th>5443055966</th>\n",
       "      <th>0</th>\n",
       "      <td>42683673</td>\n",
       "      <td>True</td>\n",
       "      <td>MEX 188</td>\n",
       "      <td>primary</td>\n",
       "      <td>90</td>\n",
       "      <td>173.530</td>\n",
       "      <td>LINESTRING (-89.50927 20.90022, -89.50960 20.8...</td>\n",
       "      <td>NaN</td>\n",
       "      <td>NaN</td>\n",
       "      <td>NaN</td>\n",
       "      <td>NaN</td>\n",
       "      <td>NaN</td>\n",
       "      <td>NaN</td>\n",
       "      <td>NaN</td>\n",
       "    </tr>\n",
       "    <tr>\n",
       "      <th>2198242153</th>\n",
       "      <th>0</th>\n",
       "      <td>209633188</td>\n",
       "      <td>False</td>\n",
       "      <td>NaN</td>\n",
       "      <td>residential</td>\n",
       "      <td>NaN</td>\n",
       "      <td>829.226</td>\n",
       "      <td>LINESTRING (-89.50927 20.90022, -89.50946 20.9...</td>\n",
       "      <td>NaN</td>\n",
       "      <td>NaN</td>\n",
       "      <td>NaN</td>\n",
       "      <td>NaN</td>\n",
       "      <td>NaN</td>\n",
       "      <td>NaN</td>\n",
       "      <td>NaN</td>\n",
       "    </tr>\n",
       "    <tr>\n",
       "      <th rowspan=\"3\" valign=\"top\">286974740</th>\n",
       "      <th>2198242162</th>\n",
       "      <th>0</th>\n",
       "      <td>27528695</td>\n",
       "      <td>False</td>\n",
       "      <td>NaN</td>\n",
       "      <td>tertiary</td>\n",
       "      <td>NaN</td>\n",
       "      <td>518.353</td>\n",
       "      <td>LINESTRING (-89.52672 20.90502, -89.52500 20.9...</td>\n",
       "      <td>NaN</td>\n",
       "      <td>NaN</td>\n",
       "      <td>NaN</td>\n",
       "      <td>NaN</td>\n",
       "      <td>NaN</td>\n",
       "      <td>NaN</td>\n",
       "      <td>NaN</td>\n",
       "    </tr>\n",
       "    <tr>\n",
       "      <th>5011841588</th>\n",
       "      <th>0</th>\n",
       "      <td>[786072812, 42683694]</td>\n",
       "      <td>False</td>\n",
       "      <td>NaN</td>\n",
       "      <td>tertiary</td>\n",
       "      <td>NaN</td>\n",
       "      <td>1685.374</td>\n",
       "      <td>LINESTRING (-89.52672 20.90502, -89.52771 20.9...</td>\n",
       "      <td>Calle 21</td>\n",
       "      <td>NaN</td>\n",
       "      <td>NaN</td>\n",
       "      <td>NaN</td>\n",
       "      <td>NaN</td>\n",
       "      <td>NaN</td>\n",
       "      <td>NaN</td>\n",
       "    </tr>\n",
       "    <tr>\n",
       "      <th>1889020903</th>\n",
       "      <th>0</th>\n",
       "      <td>42683694</td>\n",
       "      <td>False</td>\n",
       "      <td>NaN</td>\n",
       "      <td>tertiary</td>\n",
       "      <td>NaN</td>\n",
       "      <td>973.604</td>\n",
       "      <td>LINESTRING (-89.52672 20.90502, -89.52636 20.9...</td>\n",
       "      <td>NaN</td>\n",
       "      <td>NaN</td>\n",
       "      <td>NaN</td>\n",
       "      <td>NaN</td>\n",
       "      <td>NaN</td>\n",
       "      <td>NaN</td>\n",
       "      <td>NaN</td>\n",
       "    </tr>\n",
       "  </tbody>\n",
       "</table>\n",
       "</div>"
      ],
      "text/plain": [
       "                                          osmid  oneway      ref      highway  \\\n",
       "u         v          key                                                        \n",
       "286974477 5443055966 0                 42683673    True  MEX 188      primary   \n",
       "          2198242153 0                209633188   False      NaN  residential   \n",
       "286974740 2198242162 0                 27528695   False      NaN     tertiary   \n",
       "          5011841588 0    [786072812, 42683694]   False      NaN     tertiary   \n",
       "          1889020903 0                 42683694   False      NaN     tertiary   \n",
       "\n",
       "                         maxspeed    length  \\\n",
       "u         v          key                      \n",
       "286974477 5443055966 0         90   173.530   \n",
       "          2198242153 0        NaN   829.226   \n",
       "286974740 2198242162 0        NaN   518.353   \n",
       "          5011841588 0        NaN  1685.374   \n",
       "          1889020903 0        NaN   973.604   \n",
       "\n",
       "                                                                   geometry  \\\n",
       "u         v          key                                                      \n",
       "286974477 5443055966 0    LINESTRING (-89.50927 20.90022, -89.50960 20.8...   \n",
       "          2198242153 0    LINESTRING (-89.50927 20.90022, -89.50946 20.9...   \n",
       "286974740 2198242162 0    LINESTRING (-89.52672 20.90502, -89.52500 20.9...   \n",
       "          5011841588 0    LINESTRING (-89.52672 20.90502, -89.52771 20.9...   \n",
       "          1889020903 0    LINESTRING (-89.52672 20.90502, -89.52636 20.9...   \n",
       "\n",
       "                              name lanes bridge junction tunnel access width  \n",
       "u         v          key                                                      \n",
       "286974477 5443055966 0         NaN   NaN    NaN      NaN    NaN    NaN   NaN  \n",
       "          2198242153 0         NaN   NaN    NaN      NaN    NaN    NaN   NaN  \n",
       "286974740 2198242162 0         NaN   NaN    NaN      NaN    NaN    NaN   NaN  \n",
       "          5011841588 0    Calle 21   NaN    NaN      NaN    NaN    NaN   NaN  \n",
       "          1889020903 0         NaN   NaN    NaN      NaN    NaN    NaN   NaN  "
      ]
     },
     "execution_count": 44,
     "metadata": {},
     "output_type": "execute_result"
    }
   ],
   "source": [
    "edges.head()"
   ]
  },
  {
   "cell_type": "code",
   "execution_count": 45,
   "metadata": {},
   "outputs": [
    {
     "data": {
      "text/html": [
       "<div>\n",
       "<style scoped>\n",
       "    .dataframe tbody tr th:only-of-type {\n",
       "        vertical-align: middle;\n",
       "    }\n",
       "\n",
       "    .dataframe tbody tr th {\n",
       "        vertical-align: top;\n",
       "    }\n",
       "\n",
       "    .dataframe thead th {\n",
       "        text-align: right;\n",
       "    }\n",
       "</style>\n",
       "<table border=\"1\" class=\"dataframe\">\n",
       "  <thead>\n",
       "    <tr style=\"text-align: right;\">\n",
       "      <th></th>\n",
       "      <th></th>\n",
       "      <th></th>\n",
       "      <th>osmid</th>\n",
       "      <th>oneway</th>\n",
       "      <th>ref</th>\n",
       "      <th>highway</th>\n",
       "      <th>maxspeed</th>\n",
       "      <th>length</th>\n",
       "      <th>geometry</th>\n",
       "      <th>name</th>\n",
       "      <th>lanes</th>\n",
       "      <th>bridge</th>\n",
       "      <th>junction</th>\n",
       "      <th>tunnel</th>\n",
       "      <th>access</th>\n",
       "      <th>width</th>\n",
       "    </tr>\n",
       "    <tr>\n",
       "      <th>u</th>\n",
       "      <th>v</th>\n",
       "      <th>key</th>\n",
       "      <th></th>\n",
       "      <th></th>\n",
       "      <th></th>\n",
       "      <th></th>\n",
       "      <th></th>\n",
       "      <th></th>\n",
       "      <th></th>\n",
       "      <th></th>\n",
       "      <th></th>\n",
       "      <th></th>\n",
       "      <th></th>\n",
       "      <th></th>\n",
       "      <th></th>\n",
       "      <th></th>\n",
       "    </tr>\n",
       "  </thead>\n",
       "  <tbody>\n",
       "    <tr>\n",
       "      <th rowspan=\"2\" valign=\"top\">286974477</th>\n",
       "      <th>5443055966</th>\n",
       "      <th>0</th>\n",
       "      <td>42683673</td>\n",
       "      <td>True</td>\n",
       "      <td>MEX 188</td>\n",
       "      <td>primary</td>\n",
       "      <td>90</td>\n",
       "      <td>173.530</td>\n",
       "      <td>LINESTRING (238979.238 2313144.246, 238942.058...</td>\n",
       "      <td>NaN</td>\n",
       "      <td>NaN</td>\n",
       "      <td>NaN</td>\n",
       "      <td>NaN</td>\n",
       "      <td>NaN</td>\n",
       "      <td>NaN</td>\n",
       "      <td>NaN</td>\n",
       "    </tr>\n",
       "    <tr>\n",
       "      <th>2198242153</th>\n",
       "      <th>0</th>\n",
       "      <td>209633188</td>\n",
       "      <td>False</td>\n",
       "      <td>NaN</td>\n",
       "      <td>residential</td>\n",
       "      <td>NaN</td>\n",
       "      <td>829.226</td>\n",
       "      <td>LINESTRING (238979.238 2313144.246, 238959.329...</td>\n",
       "      <td>NaN</td>\n",
       "      <td>NaN</td>\n",
       "      <td>NaN</td>\n",
       "      <td>NaN</td>\n",
       "      <td>NaN</td>\n",
       "      <td>NaN</td>\n",
       "      <td>NaN</td>\n",
       "    </tr>\n",
       "    <tr>\n",
       "      <th rowspan=\"2\" valign=\"top\">5443055966</th>\n",
       "      <th>5443055948</th>\n",
       "      <th>0</th>\n",
       "      <td>42683673</td>\n",
       "      <td>True</td>\n",
       "      <td>MEX 188</td>\n",
       "      <td>primary</td>\n",
       "      <td>90</td>\n",
       "      <td>134.567</td>\n",
       "      <td>LINESTRING (238942.058 2312975.392, 238910.830...</td>\n",
       "      <td>NaN</td>\n",
       "      <td>NaN</td>\n",
       "      <td>NaN</td>\n",
       "      <td>NaN</td>\n",
       "      <td>NaN</td>\n",
       "      <td>NaN</td>\n",
       "      <td>NaN</td>\n",
       "    </tr>\n",
       "    <tr>\n",
       "      <th>5443055955</th>\n",
       "      <th>0</th>\n",
       "      <td>565071113</td>\n",
       "      <td>True</td>\n",
       "      <td>NaN</td>\n",
       "      <td>primary_link</td>\n",
       "      <td>NaN</td>\n",
       "      <td>14.896</td>\n",
       "      <td>LINESTRING (238942.058 2312975.392, 238946.166...</td>\n",
       "      <td>NaN</td>\n",
       "      <td>NaN</td>\n",
       "      <td>NaN</td>\n",
       "      <td>NaN</td>\n",
       "      <td>NaN</td>\n",
       "      <td>NaN</td>\n",
       "      <td>NaN</td>\n",
       "    </tr>\n",
       "    <tr>\n",
       "      <th>2198242153</th>\n",
       "      <th>2198242137</th>\n",
       "      <th>0</th>\n",
       "      <td>[684178840, 209633186]</td>\n",
       "      <td>False</td>\n",
       "      <td>NaN</td>\n",
       "      <td>residential</td>\n",
       "      <td>NaN</td>\n",
       "      <td>735.164</td>\n",
       "      <td>LINESTRING (238272.589 2313559.995, 238248.432...</td>\n",
       "      <td>NaN</td>\n",
       "      <td>NaN</td>\n",
       "      <td>NaN</td>\n",
       "      <td>NaN</td>\n",
       "      <td>NaN</td>\n",
       "      <td>NaN</td>\n",
       "      <td>NaN</td>\n",
       "    </tr>\n",
       "  </tbody>\n",
       "</table>\n",
       "</div>"
      ],
      "text/plain": [
       "                                            osmid  oneway      ref  \\\n",
       "u          v          key                                            \n",
       "286974477  5443055966 0                  42683673    True  MEX 188   \n",
       "           2198242153 0                 209633188   False      NaN   \n",
       "5443055966 5443055948 0                  42683673    True  MEX 188   \n",
       "           5443055955 0                 565071113    True      NaN   \n",
       "2198242153 2198242137 0    [684178840, 209633186]   False      NaN   \n",
       "\n",
       "                                highway maxspeed   length  \\\n",
       "u          v          key                                   \n",
       "286974477  5443055966 0         primary       90  173.530   \n",
       "           2198242153 0     residential      NaN  829.226   \n",
       "5443055966 5443055948 0         primary       90  134.567   \n",
       "           5443055955 0    primary_link      NaN   14.896   \n",
       "2198242153 2198242137 0     residential      NaN  735.164   \n",
       "\n",
       "                                                                    geometry  \\\n",
       "u          v          key                                                      \n",
       "286974477  5443055966 0    LINESTRING (238979.238 2313144.246, 238942.058...   \n",
       "           2198242153 0    LINESTRING (238979.238 2313144.246, 238959.329...   \n",
       "5443055966 5443055948 0    LINESTRING (238942.058 2312975.392, 238910.830...   \n",
       "           5443055955 0    LINESTRING (238942.058 2312975.392, 238946.166...   \n",
       "2198242153 2198242137 0    LINESTRING (238272.589 2313559.995, 238248.432...   \n",
       "\n",
       "                          name lanes bridge junction tunnel access width  \n",
       "u          v          key                                                 \n",
       "286974477  5443055966 0    NaN   NaN    NaN      NaN    NaN    NaN   NaN  \n",
       "           2198242153 0    NaN   NaN    NaN      NaN    NaN    NaN   NaN  \n",
       "5443055966 5443055948 0    NaN   NaN    NaN      NaN    NaN    NaN   NaN  \n",
       "           5443055955 0    NaN   NaN    NaN      NaN    NaN    NaN   NaN  \n",
       "2198242153 2198242137 0    NaN   NaN    NaN      NaN    NaN    NaN   NaN  "
      ]
     },
     "execution_count": 45,
     "metadata": {},
     "output_type": "execute_result"
    }
   ],
   "source": [
    "edges_proj.head()"
   ]
  },
  {
   "cell_type": "markdown",
   "metadata": {},
   "source": [
    "## Networkit conversion for fast algorithms"
   ]
  },
  {
   "cell_type": "code",
   "execution_count": 27,
   "metadata": {},
   "outputs": [
    {
     "name": "stdout",
     "output_type": "stream",
     "text": [
      "38450 102944\n"
     ]
    }
   ],
   "source": [
    "import networkit as nk\n",
    "\n",
    "# Convert a networkx graph into a networkit graph, \n",
    "# properties are lost, only nodes and edges are preserved (TODO:verify)\n",
    "\n",
    "Gkit = nk.nxadapter.nx2nk(G_proj, weightAttr=None)\n",
    "print(Gkit.numberOfNodes(), Gkit.numberOfEdges())"
   ]
  },
  {
   "cell_type": "markdown",
   "metadata": {},
   "source": [
    "Nodes are simply integer indices, and edges are pairs of such indices."
   ]
  },
  {
   "cell_type": "code",
   "execution_count": 31,
   "metadata": {},
   "outputs": [
    {
     "name": "stdout",
     "output_type": "stream",
     "text": [
      "0\n",
      "1\n",
      "2\n",
      "3\n",
      "4\n"
     ]
    }
   ],
   "source": [
    "i = 0\n",
    "for u in Gkit.iterNodes():\n",
    "    print(u)\n",
    "    i += 1\n",
    "    if i > 4: break"
   ]
  },
  {
   "cell_type": "code",
   "execution_count": 33,
   "metadata": {},
   "outputs": [
    {
     "name": "stdout",
     "output_type": "stream",
     "text": [
      "0 1\n",
      "0 2\n",
      "1 32835\n",
      "1 32837\n",
      "2 1944\n",
      "2 23359\n",
      "...\n"
     ]
    }
   ],
   "source": [
    "i = 0\n",
    "for u, v in Gkit.iterEdges():\n",
    "    if i > 5:\n",
    "        print('...')\n",
    "        break\n",
    "    print(u, v)\n",
    "    i += 1"
   ]
  },
  {
   "cell_type": "markdown",
   "metadata": {},
   "source": [
    "For kit analysis to be useful, we need to be able to map them back to the original nodes. For this we explicitly store the map used by Networkit internally."
   ]
  },
  {
   "cell_type": "code",
   "execution_count": 39,
   "metadata": {},
   "outputs": [],
   "source": [
    "# Get mapping from node ids in nxG to node ids in G\n",
    "idmap = dict((id, u) for (id, u) in zip(G_proj.nodes(), range(G_proj.number_of_nodes())))\n",
    "# TODO: Add it to the nodes dataframe."
   ]
  },
  {
   "cell_type": "markdown",
   "metadata": {},
   "source": [
    "# Some general consideration on the data structures, graph and dataframes"
   ]
  },
  {
   "cell_type": "code",
   "execution_count": 22,
   "metadata": {},
   "outputs": [
    {
     "data": {
      "text/plain": [
       "networkx.classes.multidigraph.MultiDiGraph"
      ]
     },
     "execution_count": 22,
     "metadata": {},
     "output_type": "execute_result"
    }
   ],
   "source": [
    "type(G)"
   ]
  },
  {
   "cell_type": "code",
   "execution_count": 25,
   "metadata": {},
   "outputs": [
    {
     "name": "stdout",
     "output_type": "stream",
     "text": [
      "The road network has 102944 edges and 38450 nodes\n"
     ]
    }
   ],
   "source": [
    "print(f\"The road network has {G.number_of_edges()} edges and {G.number_of_nodes()} nodes\")"
   ]
  },
  {
   "cell_type": "markdown",
   "metadata": {},
   "source": [
    "Nodes are street intersections, with y and x coordinates and the number of streets intersecting the node, and other potential attributes. \n",
    "\n",
    "Nodes are indexed by an integer value."
   ]
  },
  {
   "cell_type": "code",
   "execution_count": 27,
   "metadata": {},
   "outputs": [
    {
     "data": {
      "text/plain": [
       "{'y': 21.0118318, 'x': -89.6135586, 'street_count': 3}"
      ]
     },
     "execution_count": 27,
     "metadata": {},
     "output_type": "execute_result"
    }
   ],
   "source": [
    "G.nodes[287026838]"
   ]
  },
  {
   "cell_type": "code",
   "execution_count": 28,
   "metadata": {},
   "outputs": [
    {
     "data": {
      "text/plain": [
       "{'y': 2325679.8863945464,\n",
       " 'x': 228326.89813988266,\n",
       " 'street_count': 3,\n",
       " 'lon': -89.6135586,\n",
       " 'lat': 21.0118318}"
      ]
     },
     "execution_count": 28,
     "metadata": {},
     "output_type": "execute_result"
    }
   ],
   "source": [
    "G_proj.nodes[287026838]"
   ]
  },
  {
   "cell_type": "markdown",
   "metadata": {},
   "source": [
    "We now list all attributes present in the graph nodes:"
   ]
  },
  {
   "cell_type": "code",
   "execution_count": 29,
   "metadata": {},
   "outputs": [
    {
     "data": {
      "text/plain": [
       "{'highway', 'lat', 'lon', 'street_count', 'x', 'y'}"
      ]
     },
     "execution_count": 29,
     "metadata": {},
     "output_type": "execute_result"
    }
   ],
   "source": [
    "from itertools import chain\n",
    "\n",
    "set(chain.from_iterable(d.keys() for *_, d in G_proj.nodes(data=True)))"
   ]
  },
  {
   "cell_type": "markdown",
   "metadata": {},
   "source": [
    "We have a highway attribute, how many nodes have this attribute?"
   ]
  },
  {
   "cell_type": "code",
   "execution_count": 32,
   "metadata": {},
   "outputs": [
    {
     "data": {
      "text/plain": [
       "878"
      ]
     },
     "execution_count": 32,
     "metadata": {},
     "output_type": "execute_result"
    }
   ],
   "source": [
    "h_count = 0\n",
    "for node, attr in G_proj.nodes.items():\n",
    "    if 'highway' in attr.keys():\n",
    "        h_count += 1\n",
    "h_count"
   ]
  },
  {
   "cell_type": "markdown",
   "metadata": {},
   "source": [
    "What are its possible values?"
   ]
  },
  {
   "cell_type": "code",
   "execution_count": 31,
   "metadata": {},
   "outputs": [
    {
     "data": {
      "text/plain": [
       "{'crossing',\n",
       " 'mini_roundabout',\n",
       " 'passing_place',\n",
       " 'traffic_signals',\n",
       " 'turning_circle',\n",
       " 'turning_loop'}"
      ]
     },
     "execution_count": 31,
     "metadata": {},
     "output_type": "execute_result"
    }
   ],
   "source": [
    "set(nx.get_node_attributes(G, 'highway').values())"
   ]
  },
  {
   "cell_type": "markdown",
   "metadata": {},
   "source": [
    "Edges are roads and are indexed by their starting and ending nodes, and a zero(TODO; what is that zero?). They are tuple objects.\n",
    "\n",
    "OK, the zero is the edge key, since in a multigraph we can have potentially more than one edge between a pair of nodes, each edge is identofied by a key.\n",
    "\n",
    "TODO: Determine is this is indeed a multigraph. Are more than one edge for any pair of nodes? Use the key."
   ]
  },
  {
   "cell_type": "code",
   "execution_count": 34,
   "metadata": {},
   "outputs": [
    {
     "name": "stdout",
     "output_type": "stream",
     "text": [
      "2028847780 2028847782\n",
      "2028847782 2028847780\n"
     ]
    }
   ],
   "source": [
    "for u in G_proj.nodes():\n",
    "    for neighbor in G_proj.neighbors(u):\n",
    "        if G_proj.number_of_edges(u, neighbor) > 2:\n",
    "            print (u,neighbor)"
   ]
  },
  {
   "cell_type": "code",
   "execution_count": 37,
   "metadata": {},
   "outputs": [
    {
     "data": {
      "text/plain": [
       "{'osmid': 443843678,\n",
       " 'name': 'Calle 32',\n",
       " 'highway': 'residential',\n",
       " 'oneway': False,\n",
       " 'length': 54.026}"
      ]
     },
     "execution_count": 37,
     "metadata": {},
     "output_type": "execute_result"
    }
   ],
   "source": [
    "G.edges[2028847780, 2028847782, 0]"
   ]
  },
  {
   "cell_type": "code",
   "execution_count": 38,
   "metadata": {},
   "outputs": [
    {
     "data": {
      "text/plain": [
       "{'osmid': 443843678,\n",
       " 'oneway': False,\n",
       " 'highway': 'residential',\n",
       " 'length': 54.026,\n",
       " 'geometry': <shapely.geometry.linestring.LineString at 0x7fc29833f820>,\n",
       " 'name': 'Calle 32'}"
      ]
     },
     "execution_count": 38,
     "metadata": {},
     "output_type": "execute_result"
    }
   ],
   "source": [
    "G_proj.edges[2028847780, 2028847782, 0]"
   ]
  },
  {
   "cell_type": "code",
   "execution_count": 39,
   "metadata": {},
   "outputs": [
    {
     "data": {
      "text/plain": [
       "{'osmid': [369316954, 369316955, 369316951],\n",
       " 'oneway': False,\n",
       " 'highway': 'residential',\n",
       " 'length': 190.781,\n",
       " 'geometry': <shapely.geometry.linestring.LineString at 0x7fc29833f940>,\n",
       " 'name': ['Calle 39-A', 'Calle 30', 'Calle 39B-1']}"
      ]
     },
     "execution_count": 39,
     "metadata": {},
     "output_type": "execute_result"
    }
   ],
   "source": [
    "G_proj.edges[2028847782, 2028847780, 1]"
   ]
  },
  {
   "cell_type": "markdown",
   "metadata": {},
   "source": [
    "We now list all available attributes."
   ]
  },
  {
   "cell_type": "code",
   "execution_count": 40,
   "metadata": {},
   "outputs": [
    {
     "data": {
      "text/plain": [
       "{'access',\n",
       " 'bridge',\n",
       " 'geometry',\n",
       " 'highway',\n",
       " 'junction',\n",
       " 'lanes',\n",
       " 'length',\n",
       " 'maxspeed',\n",
       " 'name',\n",
       " 'oneway',\n",
       " 'osmid',\n",
       " 'ref',\n",
       " 'tunnel',\n",
       " 'width'}"
      ]
     },
     "execution_count": 40,
     "metadata": {},
     "output_type": "execute_result"
    }
   ],
   "source": [
    "set(chain.from_iterable(d.keys() for *_, d in G_proj.edges(data=True)))"
   ]
  },
  {
   "cell_type": "markdown",
   "metadata": {},
   "source": [
    "TODO: Explore what are each of these, their possible values and units, the projection in case of the geometry, and how many nodes posses each attribute (or fraction of total nodes) to give an idea of how useful they are."
   ]
  },
  {
   "cell_type": "markdown",
   "metadata": {},
   "source": [
    "TODO: Visualize tha graph with all attributes either printed or as an overlay."
   ]
  },
  {
   "cell_type": "markdown",
   "metadata": {},
   "source": [
    "Folium is too slow, and the html is too large (100 megs), maybe there are some tricks to increase performance. And we haven't even added the nodes."
   ]
  },
  {
   "cell_type": "markdown",
   "metadata": {},
   "source": [
    "Let's try some static maps from osmnx directly, and using geopandas."
   ]
  },
  {
   "cell_type": "markdown",
   "metadata": {},
   "source": [
    "# Basic Network Stats"
   ]
  },
  {
   "cell_type": "markdown",
   "metadata": {},
   "source": [
    "omsnx already provides quite an array of useful metrics that can be automatically calculated."
   ]
  },
  {
   "cell_type": "markdown",
   "metadata": {},
   "source": [
    "## Cover area"
   ]
  },
  {
   "cell_type": "code",
   "execution_count": 4,
   "metadata": {},
   "outputs": [
    {
     "data": {
      "text/plain": [
       "991812704.1111697"
      ]
     },
     "execution_count": 4,
     "metadata": {},
     "output_type": "execute_result"
    }
   ],
   "source": [
    "graph_area_m = nodes_proj.unary_union.convex_hull.area\n",
    "graph_area_m # Squared meters? What is the oficial value?"
   ]
  },
  {
   "cell_type": "code",
   "execution_count": 5,
   "metadata": {},
   "outputs": [
    {
     "name": "stdout",
     "output_type": "stream",
     "text": [
      "CPU times: user 46.8 s, sys: 179 ms, total: 47 s\n",
      "Wall time: 47 s\n"
     ]
    },
    {
     "data": {
      "text/plain": [
       "dict_keys(['n', 'm', 'k_avg', 'intersection_count', 'streets_per_node_avg', 'streets_per_node_counts', 'streets_per_node_proportion', 'edge_length_total', 'edge_length_avg', 'street_length_total', 'street_length_avg', 'street_segments_count', 'node_density_km', 'intersection_density_km', 'edge_density_km', 'street_density_km', 'circuity_avg', 'self_loop_proportion', 'clean_intersection_count', 'clean_intersection_density_km'])"
      ]
     },
     "execution_count": 5,
     "metadata": {},
     "output_type": "execute_result"
    }
   ],
   "source": [
    "%%time\n",
    "basic_stats = ox.basic_stats(G_proj, area=graph_area_m, clean_intersects=True, circuity_dist='euclidean')\n",
    "basic_stats.keys()"
   ]
  },
  {
   "cell_type": "code",
   "execution_count": 11,
   "metadata": {},
   "outputs": [
    {
     "name": "stdout",
     "output_type": "stream",
     "text": [
      "CPU times: user 9.08 s, sys: 100 ms, total: 9.18 s\n",
      "Wall time: 9.18 s\n"
     ]
    },
    {
     "data": {
      "text/plain": [
       "dict_keys(['avg_neighbor_degree', 'avg_neighbor_degree_avg', 'avg_weighted_neighbor_degree', 'avg_weighted_neighbor_degree_avg', 'degree_centrality', 'degree_centrality_avg', 'clustering_coefficient', 'clustering_coefficient_avg', 'clustering_coefficient_weighted', 'clustering_coefficient_weighted_avg', 'pagerank', 'pagerank_max_node', 'pagerank_max', 'pagerank_min_node', 'pagerank_min'])"
      ]
     },
     "execution_count": 11,
     "metadata": {},
     "output_type": "execute_result"
    }
   ],
   "source": [
    "%%time\n",
    "# Takes a lot of time, save output to disk, recompute with care.\n",
    "\n",
    "# Bare stats are not computationally expensive\n",
    "ext_stats_bare = ox.stats.extended_stats(G_proj, connectivity=False, anc=False, ecc=False, bc=False, cc=False)\n",
    "ext_stats_bare.keys()"
   ]
  },
  {
   "cell_type": "markdown",
   "metadata": {},
   "source": [
    "Since it ha proven competionally infeasible to get extenddn stats for the complete graph, we try decomposing the orginal fucntion and calculate some stats directly, trying to identify the expensive routines."
   ]
  },
  {
   "cell_type": "code",
   "execution_count": 19,
   "metadata": {},
   "outputs": [],
   "source": [
    "# get largest strongly connected component, for those metrics that require\n",
    "# strongly connected graphs\n",
    "Gs = ox.utils_graph.get_largest_component(G_proj, strongly=True)"
   ]
  },
  {
   "cell_type": "code",
   "execution_count": 20,
   "metadata": {},
   "outputs": [
    {
     "name": "stdout",
     "output_type": "stream",
     "text": [
      "The largest strongly connected component has 0.9989897419956482 edges and 0.9982054616384916 nodes\n"
     ]
    }
   ],
   "source": [
    "print(f\"The largest strongly connected component has {Gs.number_of_edges()/G_proj.number_of_edges()} edges and {Gs.number_of_nodes()/G_proj.number_of_nodes()} nodes\")"
   ]
  },
  {
   "cell_type": "markdown",
   "metadata": {},
   "source": [
    "Thats weird, it must mean we cannot reach some part of the city from some nodes (TODO: verify)"
   ]
  },
  {
   "cell_type": "code",
   "execution_count": 21,
   "metadata": {},
   "outputs": [],
   "source": [
    "# Not memory expensive, but time consuming.\n",
    "# IDEA: find the connectivity of each individual neighborhood with the rest of the city (markov blanket?) Much be much quicker.\n",
    "node_connectivity = nx.node_connectivity(Gs)"
   ]
  },
  {
   "cell_type": "code",
   "execution_count": 22,
   "metadata": {},
   "outputs": [
    {
     "data": {
      "text/plain": [
       "1"
      ]
     },
     "execution_count": 22,
     "metadata": {},
     "output_type": "execute_result"
    }
   ],
   "source": [
    "node_connectivity #Appky mincut to udersttan this"
   ]
  },
  {
   "cell_type": "code",
   "execution_count": 23,
   "metadata": {},
   "outputs": [],
   "source": [
    "edge_connectivity = nx.edge_connectivity(Gs)"
   ]
  },
  {
   "cell_type": "code",
   "execution_count": 24,
   "metadata": {},
   "outputs": [
    {
     "data": {
      "text/plain": [
       "1"
      ]
     },
     "execution_count": 24,
     "metadata": {},
     "output_type": "execute_result"
    }
   ],
   "source": [
    "edge_connectivity"
   ]
  },
  {
   "cell_type": "markdown",
   "metadata": {},
   "source": [
    "This single edge/node ake this metric not very useful. It maybe worth repeatting with city instead of county, or just merida inside Periferico. On the toher hand, it would be interesting to know the conectivity of complete neighborhoods, and probably faster to calculate."
   ]
  },
  {
   "cell_type": "code",
   "execution_count": 25,
   "metadata": {},
   "outputs": [
    {
     "ename": "KeyboardInterrupt",
     "evalue": "",
     "output_type": "error",
     "traceback": [
      "\u001b[0;31m---------------------------------------------------------------------------\u001b[0m",
      "\u001b[0;31mKeyboardInterrupt\u001b[0m                         Traceback (most recent call last)",
      "\u001b[0;32m<ipython-input-25-eca6058f60e4>\u001b[0m in \u001b[0;36m<module>\u001b[0;34m\u001b[0m\n\u001b[0;32m----> 1\u001b[0;31m \u001b[0mnode_connectivity_avg\u001b[0m \u001b[0;34m=\u001b[0m \u001b[0mnx\u001b[0m\u001b[0;34m.\u001b[0m\u001b[0maverage_node_connectivity\u001b[0m\u001b[0;34m(\u001b[0m\u001b[0mG_proj\u001b[0m\u001b[0;34m)\u001b[0m\u001b[0;34m\u001b[0m\u001b[0;34m\u001b[0m\u001b[0m\n\u001b[0m\u001b[1;32m      2\u001b[0m \u001b[0mnode_connectivity_avg\u001b[0m\u001b[0;34m\u001b[0m\u001b[0;34m\u001b[0m\u001b[0m\n",
      "\u001b[0;32m~/anaconda3/lib/python3.8/site-packages/networkx/algorithms/connectivity/connectivity.py\u001b[0m in \u001b[0;36maverage_node_connectivity\u001b[0;34m(G, flow_func)\u001b[0m\n\u001b[1;32m    410\u001b[0m     \u001b[0mnum\u001b[0m\u001b[0;34m,\u001b[0m \u001b[0mden\u001b[0m \u001b[0;34m=\u001b[0m \u001b[0;36m0\u001b[0m\u001b[0;34m,\u001b[0m \u001b[0;36m0\u001b[0m\u001b[0;34m\u001b[0m\u001b[0;34m\u001b[0m\u001b[0m\n\u001b[1;32m    411\u001b[0m     \u001b[0;32mfor\u001b[0m \u001b[0mu\u001b[0m\u001b[0;34m,\u001b[0m \u001b[0mv\u001b[0m \u001b[0;32min\u001b[0m \u001b[0miter_func\u001b[0m\u001b[0;34m(\u001b[0m\u001b[0mG\u001b[0m\u001b[0;34m,\u001b[0m \u001b[0;36m2\u001b[0m\u001b[0;34m)\u001b[0m\u001b[0;34m:\u001b[0m\u001b[0;34m\u001b[0m\u001b[0;34m\u001b[0m\u001b[0m\n\u001b[0;32m--> 412\u001b[0;31m         \u001b[0mnum\u001b[0m \u001b[0;34m+=\u001b[0m \u001b[0mlocal_node_connectivity\u001b[0m\u001b[0;34m(\u001b[0m\u001b[0mG\u001b[0m\u001b[0;34m,\u001b[0m \u001b[0mu\u001b[0m\u001b[0;34m,\u001b[0m \u001b[0mv\u001b[0m\u001b[0;34m,\u001b[0m \u001b[0;34m**\u001b[0m\u001b[0mkwargs\u001b[0m\u001b[0;34m)\u001b[0m\u001b[0;34m\u001b[0m\u001b[0;34m\u001b[0m\u001b[0m\n\u001b[0m\u001b[1;32m    413\u001b[0m         \u001b[0mden\u001b[0m \u001b[0;34m+=\u001b[0m \u001b[0;36m1\u001b[0m\u001b[0;34m\u001b[0m\u001b[0;34m\u001b[0m\u001b[0m\n\u001b[1;32m    414\u001b[0m \u001b[0;34m\u001b[0m\u001b[0m\n",
      "\u001b[0;32m~/anaconda3/lib/python3.8/site-packages/networkx/algorithms/connectivity/connectivity.py\u001b[0m in \u001b[0;36mlocal_node_connectivity\u001b[0;34m(G, s, t, flow_func, auxiliary, residual, cutoff)\u001b[0m\n\u001b[1;32m    207\u001b[0m         \u001b[0mkwargs\u001b[0m\u001b[0;34m[\u001b[0m\u001b[0;34m\"cutoff\"\u001b[0m\u001b[0;34m]\u001b[0m \u001b[0;34m=\u001b[0m \u001b[0mcutoff\u001b[0m\u001b[0;34m\u001b[0m\u001b[0;34m\u001b[0m\u001b[0m\n\u001b[1;32m    208\u001b[0m \u001b[0;34m\u001b[0m\u001b[0m\n\u001b[0;32m--> 209\u001b[0;31m     \u001b[0;32mreturn\u001b[0m \u001b[0mnx\u001b[0m\u001b[0;34m.\u001b[0m\u001b[0mmaximum_flow_value\u001b[0m\u001b[0;34m(\u001b[0m\u001b[0mH\u001b[0m\u001b[0;34m,\u001b[0m \u001b[0;34mf\"{mapping[s]}B\"\u001b[0m\u001b[0;34m,\u001b[0m \u001b[0;34mf\"{mapping[t]}A\"\u001b[0m\u001b[0;34m,\u001b[0m \u001b[0;34m**\u001b[0m\u001b[0mkwargs\u001b[0m\u001b[0;34m)\u001b[0m\u001b[0;34m\u001b[0m\u001b[0;34m\u001b[0m\u001b[0m\n\u001b[0m\u001b[1;32m    210\u001b[0m \u001b[0;34m\u001b[0m\u001b[0m\n\u001b[1;32m    211\u001b[0m \u001b[0;34m\u001b[0m\u001b[0m\n",
      "\u001b[0;32m~/anaconda3/lib/python3.8/site-packages/networkx/algorithms/flow/maxflow.py\u001b[0m in \u001b[0;36mmaximum_flow_value\u001b[0;34m(flowG, _s, _t, capacity, flow_func, **kwargs)\u001b[0m\n\u001b[1;32m    305\u001b[0m         \u001b[0;32mraise\u001b[0m \u001b[0mnx\u001b[0m\u001b[0;34m.\u001b[0m\u001b[0mNetworkXError\u001b[0m\u001b[0;34m(\u001b[0m\u001b[0;34m\"flow_func has to be callable.\"\u001b[0m\u001b[0;34m)\u001b[0m\u001b[0;34m\u001b[0m\u001b[0;34m\u001b[0m\u001b[0m\n\u001b[1;32m    306\u001b[0m \u001b[0;34m\u001b[0m\u001b[0m\n\u001b[0;32m--> 307\u001b[0;31m     \u001b[0mR\u001b[0m \u001b[0;34m=\u001b[0m \u001b[0mflow_func\u001b[0m\u001b[0;34m(\u001b[0m\u001b[0mflowG\u001b[0m\u001b[0;34m,\u001b[0m \u001b[0m_s\u001b[0m\u001b[0;34m,\u001b[0m \u001b[0m_t\u001b[0m\u001b[0;34m,\u001b[0m \u001b[0mcapacity\u001b[0m\u001b[0;34m=\u001b[0m\u001b[0mcapacity\u001b[0m\u001b[0;34m,\u001b[0m \u001b[0mvalue_only\u001b[0m\u001b[0;34m=\u001b[0m\u001b[0;32mTrue\u001b[0m\u001b[0;34m,\u001b[0m \u001b[0;34m**\u001b[0m\u001b[0mkwargs\u001b[0m\u001b[0;34m)\u001b[0m\u001b[0;34m\u001b[0m\u001b[0;34m\u001b[0m\u001b[0m\n\u001b[0m\u001b[1;32m    308\u001b[0m \u001b[0;34m\u001b[0m\u001b[0m\n\u001b[1;32m    309\u001b[0m     \u001b[0;32mreturn\u001b[0m \u001b[0mR\u001b[0m\u001b[0;34m.\u001b[0m\u001b[0mgraph\u001b[0m\u001b[0;34m[\u001b[0m\u001b[0;34m\"flow_value\"\u001b[0m\u001b[0;34m]\u001b[0m\u001b[0;34m\u001b[0m\u001b[0;34m\u001b[0m\u001b[0m\n",
      "\u001b[0;32m~/anaconda3/lib/python3.8/site-packages/networkx/algorithms/flow/edmondskarp.py\u001b[0m in \u001b[0;36medmonds_karp\u001b[0;34m(G, s, t, capacity, residual, value_only, cutoff)\u001b[0m\n\u001b[1;32m    239\u001b[0m \u001b[0;34m\u001b[0m\u001b[0m\n\u001b[1;32m    240\u001b[0m     \"\"\"\n\u001b[0;32m--> 241\u001b[0;31m     \u001b[0mR\u001b[0m \u001b[0;34m=\u001b[0m \u001b[0medmonds_karp_impl\u001b[0m\u001b[0;34m(\u001b[0m\u001b[0mG\u001b[0m\u001b[0;34m,\u001b[0m \u001b[0ms\u001b[0m\u001b[0;34m,\u001b[0m \u001b[0mt\u001b[0m\u001b[0;34m,\u001b[0m \u001b[0mcapacity\u001b[0m\u001b[0;34m,\u001b[0m \u001b[0mresidual\u001b[0m\u001b[0;34m,\u001b[0m \u001b[0mcutoff\u001b[0m\u001b[0;34m)\u001b[0m\u001b[0;34m\u001b[0m\u001b[0;34m\u001b[0m\u001b[0m\n\u001b[0m\u001b[1;32m    242\u001b[0m     \u001b[0mR\u001b[0m\u001b[0;34m.\u001b[0m\u001b[0mgraph\u001b[0m\u001b[0;34m[\u001b[0m\u001b[0;34m\"algorithm\"\u001b[0m\u001b[0;34m]\u001b[0m \u001b[0;34m=\u001b[0m \u001b[0;34m\"edmonds_karp\"\u001b[0m\u001b[0;34m\u001b[0m\u001b[0;34m\u001b[0m\u001b[0m\n\u001b[1;32m    243\u001b[0m     \u001b[0;32mreturn\u001b[0m \u001b[0mR\u001b[0m\u001b[0;34m\u001b[0m\u001b[0;34m\u001b[0m\u001b[0m\n",
      "\u001b[0;32m~/anaconda3/lib/python3.8/site-packages/networkx/algorithms/flow/edmondskarp.py\u001b[0m in \u001b[0;36medmonds_karp_impl\u001b[0;34m(G, s, t, capacity, residual, cutoff)\u001b[0m\n\u001b[1;32m    112\u001b[0m     \u001b[0;31m# Initialize/reset the residual network.\u001b[0m\u001b[0;34m\u001b[0m\u001b[0;34m\u001b[0m\u001b[0;34m\u001b[0m\u001b[0m\n\u001b[1;32m    113\u001b[0m     \u001b[0;32mfor\u001b[0m \u001b[0mu\u001b[0m \u001b[0;32min\u001b[0m \u001b[0mR\u001b[0m\u001b[0;34m:\u001b[0m\u001b[0;34m\u001b[0m\u001b[0;34m\u001b[0m\u001b[0m\n\u001b[0;32m--> 114\u001b[0;31m         \u001b[0;32mfor\u001b[0m \u001b[0me\u001b[0m \u001b[0;32min\u001b[0m \u001b[0mR\u001b[0m\u001b[0;34m[\u001b[0m\u001b[0mu\u001b[0m\u001b[0;34m]\u001b[0m\u001b[0;34m.\u001b[0m\u001b[0mvalues\u001b[0m\u001b[0;34m(\u001b[0m\u001b[0;34m)\u001b[0m\u001b[0;34m:\u001b[0m\u001b[0;34m\u001b[0m\u001b[0;34m\u001b[0m\u001b[0m\n\u001b[0m\u001b[1;32m    115\u001b[0m             \u001b[0me\u001b[0m\u001b[0;34m[\u001b[0m\u001b[0;34m\"flow\"\u001b[0m\u001b[0;34m]\u001b[0m \u001b[0;34m=\u001b[0m \u001b[0;36m0\u001b[0m\u001b[0;34m\u001b[0m\u001b[0;34m\u001b[0m\u001b[0m\n\u001b[1;32m    116\u001b[0m \u001b[0;34m\u001b[0m\u001b[0m\n",
      "\u001b[0;32m~/anaconda3/lib/python3.8/_collections_abc.py\u001b[0m in \u001b[0;36m__iter__\u001b[0;34m(self)\u001b[0m\n\u001b[1;32m    760\u001b[0m     \u001b[0;32mdef\u001b[0m \u001b[0m__iter__\u001b[0m\u001b[0;34m(\u001b[0m\u001b[0mself\u001b[0m\u001b[0;34m)\u001b[0m\u001b[0;34m:\u001b[0m\u001b[0;34m\u001b[0m\u001b[0;34m\u001b[0m\u001b[0m\n\u001b[1;32m    761\u001b[0m         \u001b[0;32mfor\u001b[0m \u001b[0mkey\u001b[0m \u001b[0;32min\u001b[0m \u001b[0mself\u001b[0m\u001b[0;34m.\u001b[0m\u001b[0m_mapping\u001b[0m\u001b[0;34m:\u001b[0m\u001b[0;34m\u001b[0m\u001b[0;34m\u001b[0m\u001b[0m\n\u001b[0;32m--> 762\u001b[0;31m             \u001b[0;32myield\u001b[0m \u001b[0mself\u001b[0m\u001b[0;34m.\u001b[0m\u001b[0m_mapping\u001b[0m\u001b[0;34m[\u001b[0m\u001b[0mkey\u001b[0m\u001b[0;34m]\u001b[0m\u001b[0;34m\u001b[0m\u001b[0;34m\u001b[0m\u001b[0m\n\u001b[0m\u001b[1;32m    763\u001b[0m \u001b[0;34m\u001b[0m\u001b[0m\n\u001b[1;32m    764\u001b[0m \u001b[0mValuesView\u001b[0m\u001b[0;34m.\u001b[0m\u001b[0mregister\u001b[0m\u001b[0;34m(\u001b[0m\u001b[0mdict_values\u001b[0m\u001b[0;34m)\u001b[0m\u001b[0;34m\u001b[0m\u001b[0;34m\u001b[0m\u001b[0m\n",
      "\u001b[0;32m~/anaconda3/lib/python3.8/site-packages/networkx/classes/coreviews.py\u001b[0m in \u001b[0;36m__getitem__\u001b[0;34m(self, key)\u001b[0m\n\u001b[1;32m     49\u001b[0m \u001b[0;34m\u001b[0m\u001b[0m\n\u001b[1;32m     50\u001b[0m     \u001b[0;32mdef\u001b[0m \u001b[0m__getitem__\u001b[0m\u001b[0;34m(\u001b[0m\u001b[0mself\u001b[0m\u001b[0;34m,\u001b[0m \u001b[0mkey\u001b[0m\u001b[0;34m)\u001b[0m\u001b[0;34m:\u001b[0m\u001b[0;34m\u001b[0m\u001b[0;34m\u001b[0m\u001b[0m\n\u001b[0;32m---> 51\u001b[0;31m         \u001b[0;32mreturn\u001b[0m \u001b[0mself\u001b[0m\u001b[0;34m.\u001b[0m\u001b[0m_atlas\u001b[0m\u001b[0;34m[\u001b[0m\u001b[0mkey\u001b[0m\u001b[0;34m]\u001b[0m\u001b[0;34m\u001b[0m\u001b[0;34m\u001b[0m\u001b[0m\n\u001b[0m\u001b[1;32m     52\u001b[0m \u001b[0;34m\u001b[0m\u001b[0m\n\u001b[1;32m     53\u001b[0m     \u001b[0;32mdef\u001b[0m \u001b[0mcopy\u001b[0m\u001b[0;34m(\u001b[0m\u001b[0mself\u001b[0m\u001b[0;34m)\u001b[0m\u001b[0;34m:\u001b[0m\u001b[0;34m\u001b[0m\u001b[0;34m\u001b[0m\u001b[0m\n",
      "\u001b[0;31mKeyboardInterrupt\u001b[0m: "
     ]
    }
   ],
   "source": [
    "node_connectivity_avg = nx.average_node_connectivity(G_proj)\n",
    "node_connectivity_avg"
   ]
  },
  {
   "cell_type": "markdown",
   "metadata": {},
   "source": [
    "There are som functions in networkX that apprixmate these measures providing a lower bound, which could prove useful. TODO: explore the fesability of those functions."
   ]
  },
  {
   "cell_type": "markdown",
   "metadata": {},
   "source": [
    "# Visualization"
   ]
  },
  {
   "cell_type": "markdown",
   "metadata": {},
   "source": [
    "# Administrative boundaries from OSM"
   ]
  },
  {
   "cell_type": "markdown",
   "metadata": {},
   "source": [
    "There is supposly a way to download administrative boundaries from OSM. It seems data for Mérida is very poor, only 3 neighborhoods present, what a shame.\n",
    "\n",
    "Seems AGEBS are our best bets."
   ]
  },
  {
   "cell_type": "code",
   "execution_count": 46,
   "metadata": {},
   "outputs": [
    {
     "data": {
      "image/png": "[encoded data removed]",
      "text/plain": [
       "<Figure size 432x288 with 1 Axes>"
      ]
     },
     "metadata": {
      "needs_background": "light"
     },
     "output_type": "display_data"
    }
   ],
   "source": [
    "nbrhd = ox.geocode_to_gdf('Mérida, Yucatán')\n",
    "ax = ox.project_gdf(nbrhd).plot()\n",
    "ax.axis('off');"
   ]
  },
  {
   "cell_type": "markdown",
   "metadata": {},
   "source": [
    "## Importing shapefiles containing polygons of Colonias de Mexico using GeoPandas (http://datamx.io/dataset/colonias-mexico)"
   ]
  },
  {
   "cell_type": "markdown",
   "metadata": {},
   "source": [
    "In order to perform some analysis involving how data metrics change with scale, we import the neiborhoods of the city as shapefiles to create a subgraph for each different neigborhood."
   ]
  },
  {
   "cell_type": "code",
   "execution_count": 5,
   "metadata": {},
   "outputs": [
    {
     "data": {
      "text/html": [
       "<div>\n",
       "<style scoped>\n",
       "    .dataframe tbody tr th:only-of-type {\n",
       "        vertical-align: middle;\n",
       "    }\n",
       "\n",
       "    .dataframe tbody tr th {\n",
       "        vertical-align: top;\n",
       "    }\n",
       "\n",
       "    .dataframe thead th {\n",
       "        text-align: right;\n",
       "    }\n",
       "</style>\n",
       "<table border=\"1\" class=\"dataframe\">\n",
       "  <thead>\n",
       "    <tr style=\"text-align: right;\">\n",
       "      <th></th>\n",
       "      <th>OBJECTID</th>\n",
       "      <th>POSTALCODE</th>\n",
       "      <th>ST_NAME</th>\n",
       "      <th>MUN_NAME</th>\n",
       "      <th>SETT_NAME</th>\n",
       "      <th>SETT_TYPE</th>\n",
       "      <th>AREA</th>\n",
       "      <th>Shape_Leng</th>\n",
       "      <th>Shape_Area</th>\n",
       "      <th>geometry</th>\n",
       "    </tr>\n",
       "  </thead>\n",
       "  <tbody>\n",
       "    <tr>\n",
       "      <th>56515</th>\n",
       "      <td>56516</td>\n",
       "      <td>97000</td>\n",
       "      <td>YUCATAN</td>\n",
       "      <td>MÉRIDA</td>\n",
       "      <td>BARRIO SAN SEBASTIAN</td>\n",
       "      <td>FRACCIONAMIENTO</td>\n",
       "      <td>724836804.0</td>\n",
       "      <td>0.028660</td>\n",
       "      <td>0.000038</td>\n",
       "      <td>POLYGON Z ((-89.63250 20.96072 0.00000, -89.63...</td>\n",
       "    </tr>\n",
       "    <tr>\n",
       "      <th>56516</th>\n",
       "      <td>56517</td>\n",
       "      <td>97000</td>\n",
       "      <td>YUCATAN</td>\n",
       "      <td>MÉRIDA</td>\n",
       "      <td>BARRIO SANTA ANA</td>\n",
       "      <td>FRACCIONAMIENTO</td>\n",
       "      <td>724836804.0</td>\n",
       "      <td>0.031112</td>\n",
       "      <td>0.000051</td>\n",
       "      <td>POLYGON Z ((-89.62424 20.97568 0.00000, -89.62...</td>\n",
       "    </tr>\n",
       "    <tr>\n",
       "      <th>56517</th>\n",
       "      <td>56518</td>\n",
       "      <td>97000</td>\n",
       "      <td>YUCATAN</td>\n",
       "      <td>MÉRIDA</td>\n",
       "      <td>BARRIO SANTIAGO</td>\n",
       "      <td>FRACCIONAMIENTO</td>\n",
       "      <td>724836804.0</td>\n",
       "      <td>0.023338</td>\n",
       "      <td>0.000034</td>\n",
       "      <td>POLYGON Z ((-89.62914 20.96978 0.00000, -89.62...</td>\n",
       "    </tr>\n",
       "  </tbody>\n",
       "</table>\n",
       "</div>"
      ],
      "text/plain": [
       "       OBJECTID POSTALCODE  ST_NAME MUN_NAME             SETT_NAME  \\\n",
       "56515     56516      97000  YUCATAN   MÉRIDA  BARRIO SAN SEBASTIAN   \n",
       "56516     56517      97000  YUCATAN   MÉRIDA      BARRIO SANTA ANA   \n",
       "56517     56518      97000  YUCATAN   MÉRIDA       BARRIO SANTIAGO   \n",
       "\n",
       "             SETT_TYPE         AREA  Shape_Leng  Shape_Area  \\\n",
       "56515  FRACCIONAMIENTO  724836804.0    0.028660    0.000038   \n",
       "56516  FRACCIONAMIENTO  724836804.0    0.031112    0.000051   \n",
       "56517  FRACCIONAMIENTO  724836804.0    0.023338    0.000034   \n",
       "\n",
       "                                                geometry  \n",
       "56515  POLYGON Z ((-89.63250 20.96072 0.00000, -89.63...  \n",
       "56516  POLYGON Z ((-89.62424 20.97568 0.00000, -89.62...  \n",
       "56517  POLYGON Z ((-89.62914 20.96978 0.00000, -89.62...  "
      ]
     },
     "execution_count": 5,
     "metadata": {},
     "output_type": "execute_result"
    }
   ],
   "source": [
    "#read the files from the Colonias folder using geopandas just as if we were using only pandas\n",
    "colonias = gpd.read_file('input_data/coloniasmexico/Colonias/')\n",
    "\n",
    "#query to filter only the colonias from Merida municipality of Yucatan state\n",
    "colonias_yucatan_merida = colonias[(colonias['ST_NAME']=='YUCATAN') & (colonias['MUN_NAME'] == 'MÉRIDA')]\n",
    "\n",
    "#query to filter only the colonias from Kanasin municipality of Yucatan state\n",
    "colonias_yucatan_kanasin = colonias[(colonias['ST_NAME']=='YUCATAN') & (colonias['MUN_NAME'] == 'KANASÍN')]\n",
    "\n",
    "colonias_yucatan_merida_kanasin = pd.concat([colonias_yucatan_merida, colonias_yucatan_kanasin])\n",
    "\n",
    "colonias_yucatan_merida_kanasin.head(3)"
   ]
  },
  {
   "cell_type": "markdown",
   "metadata": {},
   "source": [
    "The reference system used in the neiborhoods shpefile is WGS 84 (explain a little about this). It seems to me, it is not too important, as nodes are geolocated, but may be important when we define out own polygons to query subregions."
   ]
  },
  {
   "cell_type": "code",
   "execution_count": 41,
   "metadata": {},
   "outputs": [
    {
     "data": {
      "text/plain": [
       "<Geographic 2D CRS: EPSG:4326>\n",
       "Name: WGS 84\n",
       "Axis Info [ellipsoidal]:\n",
       "- Lat[north]: Geodetic latitude (degree)\n",
       "- Lon[east]: Geodetic longitude (degree)\n",
       "Area of Use:\n",
       "- name: World.\n",
       "- bounds: (-180.0, -90.0, 180.0, 90.0)\n",
       "Datum: World Geodetic System 1984\n",
       "- Ellipsoid: WGS 84\n",
       "- Prime Meridian: Greenwich"
      ]
     },
     "execution_count": 41,
     "metadata": {},
     "output_type": "execute_result"
    }
   ],
   "source": [
    "#view info of the Coordinate Reference System (CRS)\n",
    "colonias_yucatan_merida_kanasin.crs"
   ]
  },
  {
   "cell_type": "markdown",
   "metadata": {},
   "source": [
    "TODO: Display a visualization of the colonias and the road network."
   ]
  },
  {
   "cell_type": "markdown",
   "metadata": {},
   "source": [
    "TODO: Create or obtain polygons for the main zones of the city, as in http://isla.merida.gob.mx/serviciosinternet/ordenamientoterritorial/docs/estrategico/E_01_ZONAS__PRIMARIAS.jpg.\n",
    "O for the 5 main zones, north, south, east, west and center.\n",
    "\n",
    "Also consider: http://isla.merida.gob.mx/serviciosinternet/ordenamientoterritorial/paginas/pmdu.phpx\n",
    "Check what kind of data can we obtain from there."
   ]
  },
  {
   "cell_type": "markdown",
   "metadata": {},
   "source": [
    "## Creating vector of measures for each Colonia as subgraph"
   ]
  },
  {
   "cell_type": "code",
   "execution_count": 36,
   "metadata": {},
   "outputs": [],
   "source": [
    "#extract nodes as a geodataframe\n",
    "nodes = ox.graph_to_gdfs(G, edges=False)"
   ]
  },
  {
   "cell_type": "code",
   "execution_count": 37,
   "metadata": {},
   "outputs": [
    {
     "data": {
      "text/html": [
       "<div>\n",
       "<style scoped>\n",
       "    .dataframe tbody tr th:only-of-type {\n",
       "        vertical-align: middle;\n",
       "    }\n",
       "\n",
       "    .dataframe tbody tr th {\n",
       "        vertical-align: top;\n",
       "    }\n",
       "\n",
       "    .dataframe thead th {\n",
       "        text-align: right;\n",
       "    }\n",
       "</style>\n",
       "<table border=\"1\" class=\"dataframe\">\n",
       "  <thead>\n",
       "    <tr style=\"text-align: right;\">\n",
       "      <th></th>\n",
       "      <th>y</th>\n",
       "      <th>x</th>\n",
       "      <th>street_count</th>\n",
       "      <th>highway</th>\n",
       "      <th>geometry</th>\n",
       "    </tr>\n",
       "    <tr>\n",
       "      <th>osmid</th>\n",
       "      <th></th>\n",
       "      <th></th>\n",
       "      <th></th>\n",
       "      <th></th>\n",
       "      <th></th>\n",
       "    </tr>\n",
       "  </thead>\n",
       "  <tbody>\n",
       "    <tr>\n",
       "      <th>286974477</th>\n",
       "      <td>20.900216</td>\n",
       "      <td>-89.509268</td>\n",
       "      <td>4</td>\n",
       "      <td>NaN</td>\n",
       "      <td>POINT (-89.50927 20.90022)</td>\n",
       "    </tr>\n",
       "    <tr>\n",
       "      <th>286974740</th>\n",
       "      <td>20.905018</td>\n",
       "      <td>-89.526717</td>\n",
       "      <td>3</td>\n",
       "      <td>NaN</td>\n",
       "      <td>POINT (-89.52672 20.90502)</td>\n",
       "    </tr>\n",
       "    <tr>\n",
       "      <th>286974743</th>\n",
       "      <td>20.924688</td>\n",
       "      <td>-89.560150</td>\n",
       "      <td>4</td>\n",
       "      <td>NaN</td>\n",
       "      <td>POINT (-89.56015 20.92469)</td>\n",
       "    </tr>\n",
       "    <tr>\n",
       "      <th>287020194</th>\n",
       "      <td>20.896659</td>\n",
       "      <td>-89.647519</td>\n",
       "      <td>3</td>\n",
       "      <td>NaN</td>\n",
       "      <td>POINT (-89.64752 20.89666)</td>\n",
       "    </tr>\n",
       "    <tr>\n",
       "      <th>287020195</th>\n",
       "      <td>20.908412</td>\n",
       "      <td>-89.625401</td>\n",
       "      <td>3</td>\n",
       "      <td>NaN</td>\n",
       "      <td>POINT (-89.62540 20.90841)</td>\n",
       "    </tr>\n",
       "  </tbody>\n",
       "</table>\n",
       "</div>"
      ],
      "text/plain": [
       "                   y          x  street_count highway  \\\n",
       "osmid                                                   \n",
       "286974477  20.900216 -89.509268             4     NaN   \n",
       "286974740  20.905018 -89.526717             3     NaN   \n",
       "286974743  20.924688 -89.560150             4     NaN   \n",
       "287020194  20.896659 -89.647519             3     NaN   \n",
       "287020195  20.908412 -89.625401             3     NaN   \n",
       "\n",
       "                             geometry  \n",
       "osmid                                  \n",
       "286974477  POINT (-89.50927 20.90022)  \n",
       "286974740  POINT (-89.52672 20.90502)  \n",
       "286974743  POINT (-89.56015 20.92469)  \n",
       "287020194  POINT (-89.64752 20.89666)  \n",
       "287020195  POINT (-89.62540 20.90841)  "
      ]
     },
     "execution_count": 37,
     "metadata": {},
     "output_type": "execute_result"
    }
   ],
   "source": [
    "nodes.head()"
   ]
  },
  {
   "cell_type": "code",
   "execution_count": 42,
   "metadata": {},
   "outputs": [
    {
     "data": {
      "text/plain": [
       "<Geographic 2D CRS: EPSG:4326>\n",
       "Name: WGS 84\n",
       "Axis Info [ellipsoidal]:\n",
       "- Lat[north]: Geodetic latitude (degree)\n",
       "- Lon[east]: Geodetic longitude (degree)\n",
       "Area of Use:\n",
       "- name: World.\n",
       "- bounds: (-180.0, -90.0, 180.0, 90.0)\n",
       "Datum: World Geodetic System 1984\n",
       "- Ellipsoid: WGS 84\n",
       "- Prime Meridian: Greenwich"
      ]
     },
     "execution_count": 42,
     "metadata": {},
     "output_type": "execute_result"
    }
   ],
   "source": [
    "nodes.crs"
   ]
  },
  {
   "cell_type": "code",
   "execution_count": 38,
   "metadata": {},
   "outputs": [],
   "source": [
    "#extract edges as a geodataframe\n",
    "edges = ox.graph_to_gdfs(G, nodes=False)"
   ]
  },
  {
   "cell_type": "code",
   "execution_count": 39,
   "metadata": {},
   "outputs": [
    {
     "data": {
      "text/html": [
       "<div>\n",
       "<style scoped>\n",
       "    .dataframe tbody tr th:only-of-type {\n",
       "        vertical-align: middle;\n",
       "    }\n",
       "\n",
       "    .dataframe tbody tr th {\n",
       "        vertical-align: top;\n",
       "    }\n",
       "\n",
       "    .dataframe thead th {\n",
       "        text-align: right;\n",
       "    }\n",
       "</style>\n",
       "<table border=\"1\" class=\"dataframe\">\n",
       "  <thead>\n",
       "    <tr style=\"text-align: right;\">\n",
       "      <th></th>\n",
       "      <th></th>\n",
       "      <th></th>\n",
       "      <th>osmid</th>\n",
       "      <th>oneway</th>\n",
       "      <th>ref</th>\n",
       "      <th>highway</th>\n",
       "      <th>maxspeed</th>\n",
       "      <th>length</th>\n",
       "      <th>geometry</th>\n",
       "      <th>name</th>\n",
       "      <th>lanes</th>\n",
       "      <th>bridge</th>\n",
       "      <th>junction</th>\n",
       "      <th>tunnel</th>\n",
       "      <th>width</th>\n",
       "      <th>access</th>\n",
       "    </tr>\n",
       "    <tr>\n",
       "      <th>u</th>\n",
       "      <th>v</th>\n",
       "      <th>key</th>\n",
       "      <th></th>\n",
       "      <th></th>\n",
       "      <th></th>\n",
       "      <th></th>\n",
       "      <th></th>\n",
       "      <th></th>\n",
       "      <th></th>\n",
       "      <th></th>\n",
       "      <th></th>\n",
       "      <th></th>\n",
       "      <th></th>\n",
       "      <th></th>\n",
       "      <th></th>\n",
       "      <th></th>\n",
       "    </tr>\n",
       "  </thead>\n",
       "  <tbody>\n",
       "    <tr>\n",
       "      <th rowspan=\"2\" valign=\"top\">286974477</th>\n",
       "      <th>5443055966</th>\n",
       "      <th>0</th>\n",
       "      <td>42683673</td>\n",
       "      <td>True</td>\n",
       "      <td>MEX 188</td>\n",
       "      <td>primary</td>\n",
       "      <td>90</td>\n",
       "      <td>173.530</td>\n",
       "      <td>LINESTRING (-89.50927 20.90022, -89.50960 20.8...</td>\n",
       "      <td>NaN</td>\n",
       "      <td>NaN</td>\n",
       "      <td>NaN</td>\n",
       "      <td>NaN</td>\n",
       "      <td>NaN</td>\n",
       "      <td>NaN</td>\n",
       "      <td>NaN</td>\n",
       "    </tr>\n",
       "    <tr>\n",
       "      <th>2198242153</th>\n",
       "      <th>0</th>\n",
       "      <td>209633188</td>\n",
       "      <td>False</td>\n",
       "      <td>NaN</td>\n",
       "      <td>residential</td>\n",
       "      <td>NaN</td>\n",
       "      <td>829.226</td>\n",
       "      <td>LINESTRING (-89.50927 20.90022, -89.50946 20.9...</td>\n",
       "      <td>NaN</td>\n",
       "      <td>NaN</td>\n",
       "      <td>NaN</td>\n",
       "      <td>NaN</td>\n",
       "      <td>NaN</td>\n",
       "      <td>NaN</td>\n",
       "      <td>NaN</td>\n",
       "    </tr>\n",
       "    <tr>\n",
       "      <th rowspan=\"3\" valign=\"top\">286974740</th>\n",
       "      <th>2198242162</th>\n",
       "      <th>0</th>\n",
       "      <td>27528695</td>\n",
       "      <td>False</td>\n",
       "      <td>NaN</td>\n",
       "      <td>tertiary</td>\n",
       "      <td>NaN</td>\n",
       "      <td>518.353</td>\n",
       "      <td>LINESTRING (-89.52672 20.90502, -89.52500 20.9...</td>\n",
       "      <td>NaN</td>\n",
       "      <td>NaN</td>\n",
       "      <td>NaN</td>\n",
       "      <td>NaN</td>\n",
       "      <td>NaN</td>\n",
       "      <td>NaN</td>\n",
       "      <td>NaN</td>\n",
       "    </tr>\n",
       "    <tr>\n",
       "      <th>5011841588</th>\n",
       "      <th>0</th>\n",
       "      <td>[786072812, 42683694]</td>\n",
       "      <td>False</td>\n",
       "      <td>NaN</td>\n",
       "      <td>tertiary</td>\n",
       "      <td>NaN</td>\n",
       "      <td>1679.496</td>\n",
       "      <td>LINESTRING (-89.52672 20.90502, -89.52771 20.9...</td>\n",
       "      <td>Calle 21</td>\n",
       "      <td>NaN</td>\n",
       "      <td>NaN</td>\n",
       "      <td>NaN</td>\n",
       "      <td>NaN</td>\n",
       "      <td>NaN</td>\n",
       "      <td>NaN</td>\n",
       "    </tr>\n",
       "    <tr>\n",
       "      <th>1889020903</th>\n",
       "      <th>0</th>\n",
       "      <td>42683694</td>\n",
       "      <td>False</td>\n",
       "      <td>NaN</td>\n",
       "      <td>tertiary</td>\n",
       "      <td>NaN</td>\n",
       "      <td>973.604</td>\n",
       "      <td>LINESTRING (-89.52672 20.90502, -89.52636 20.9...</td>\n",
       "      <td>NaN</td>\n",
       "      <td>NaN</td>\n",
       "      <td>NaN</td>\n",
       "      <td>NaN</td>\n",
       "      <td>NaN</td>\n",
       "      <td>NaN</td>\n",
       "      <td>NaN</td>\n",
       "    </tr>\n",
       "  </tbody>\n",
       "</table>\n",
       "</div>"
      ],
      "text/plain": [
       "                                          osmid  oneway      ref      highway  \\\n",
       "u         v          key                                                        \n",
       "286974477 5443055966 0                 42683673    True  MEX 188      primary   \n",
       "          2198242153 0                209633188   False      NaN  residential   \n",
       "286974740 2198242162 0                 27528695   False      NaN     tertiary   \n",
       "          5011841588 0    [786072812, 42683694]   False      NaN     tertiary   \n",
       "          1889020903 0                 42683694   False      NaN     tertiary   \n",
       "\n",
       "                         maxspeed    length  \\\n",
       "u         v          key                      \n",
       "286974477 5443055966 0         90   173.530   \n",
       "          2198242153 0        NaN   829.226   \n",
       "286974740 2198242162 0        NaN   518.353   \n",
       "          5011841588 0        NaN  1679.496   \n",
       "          1889020903 0        NaN   973.604   \n",
       "\n",
       "                                                                   geometry  \\\n",
       "u         v          key                                                      \n",
       "286974477 5443055966 0    LINESTRING (-89.50927 20.90022, -89.50960 20.8...   \n",
       "          2198242153 0    LINESTRING (-89.50927 20.90022, -89.50946 20.9...   \n",
       "286974740 2198242162 0    LINESTRING (-89.52672 20.90502, -89.52500 20.9...   \n",
       "          5011841588 0    LINESTRING (-89.52672 20.90502, -89.52771 20.9...   \n",
       "          1889020903 0    LINESTRING (-89.52672 20.90502, -89.52636 20.9...   \n",
       "\n",
       "                              name lanes bridge junction tunnel width access  \n",
       "u         v          key                                                      \n",
       "286974477 5443055966 0         NaN   NaN    NaN      NaN    NaN   NaN    NaN  \n",
       "          2198242153 0         NaN   NaN    NaN      NaN    NaN   NaN    NaN  \n",
       "286974740 2198242162 0         NaN   NaN    NaN      NaN    NaN   NaN    NaN  \n",
       "          5011841588 0    Calle 21   NaN    NaN      NaN    NaN   NaN    NaN  \n",
       "          1889020903 0         NaN   NaN    NaN      NaN    NaN   NaN    NaN  "
      ]
     },
     "execution_count": 39,
     "metadata": {},
     "output_type": "execute_result"
    }
   ],
   "source": [
    "edges.head()"
   ]
  },
  {
   "cell_type": "code",
   "execution_count": 43,
   "metadata": {},
   "outputs": [
    {
     "data": {
      "text/plain": [
       "<Geographic 2D CRS: EPSG:4326>\n",
       "Name: WGS 84\n",
       "Axis Info [ellipsoidal]:\n",
       "- Lat[north]: Geodetic latitude (degree)\n",
       "- Lon[east]: Geodetic longitude (degree)\n",
       "Area of Use:\n",
       "- name: World.\n",
       "- bounds: (-180.0, -90.0, 180.0, 90.0)\n",
       "Datum: World Geodetic System 1984\n",
       "- Ellipsoid: WGS 84\n",
       "- Prime Meridian: Greenwich"
      ]
     },
     "execution_count": 43,
     "metadata": {},
     "output_type": "execute_result"
    }
   ],
   "source": [
    "edges.crs"
   ]
  },
  {
   "cell_type": "markdown",
   "metadata": {},
   "source": [
    "### Measures\n",
    "\n",
    "#### Basic stats:\n",
    "\n",
    "<ul>\n",
    "    <li>n = number of nodes in the graph</li>\n",
    "    <li>m = number of edges in the graph </li>\n",
    "    <li>k_avg = average node degree of the graph </li>\n",
    "    <li> intersection_count = number of intersections in graph, that is,\n",
    "    nodes with >1 physical street connected to them </li>\n",
    "    <li>streets_per_node_avg = how many physical streets (edges in the\n",
    "    undirected representation of the graph) connect to each node (ie, intersection or dead-end) on average (mean) </li>\n",
    "    <li>streets_per_node_counts = dict with keys of number of physical\n",
    "    streets connecting to a node, and values of number of nodes with this count </li>\n",
    "    <li>streets_per_node_proportion = dict, same as previous, but as a\n",
    "    proportion of the total, rather than counts </li>\n",
    "    <li>edge_length_total = sum of all edge lengths in graph, in meters </li>\n",
    "    <li>edge_length_avg = mean edge length in the graph, in meters </li>\n",
    "    <li>street_length_total = sum of all edges in the undirected\n",
    "    representation of the graph </li>\n",
    "    <li>street_length_avg = mean edge length in the undirected\n",
    "    representation of the graph, in meters </li>\n",
    "    <li>street_segments_count = number of edges in the undirected\n",
    "    representation of the graph</li>\n",
    "    <li>node_density_km = n divided by area in square kilometers</li>\n",
    "    <li>intersection_density_km = intersection_count divided by area in\n",
    "    square kilometers</li>\n",
    "    <li>edge_density_km = edge_length_total divided by area in square\n",
    "    kilometers</li>\n",
    "    <li>street_density_km = street_length_total divided by area in square\n",
    "    kilometers</li>\n",
    "    <li>circuity_avg = edge_length_total divided by the sum of the great\n",
    "    circle distances between the nodes of each edge</li>\n",
    "    <li>self_loop_proportion = proportion of edges that have a single node\n",
    "    as its endpoints (ie, the edge links nodes u and v, and u==v)</li>\n",
    "    <li>clean_intersection_count = number of intersections in street\n",
    "    network, merging complex ones into single points</li>\n",
    "    <li>clean_intersection_density_km = clean_intersection_count divided\n",
    "    by area in square kilometers</li>\n",
    "</ul>\n",
    "\n",
    "#### Extended stats:\n",
    "\n",
    "<ul>\n",
    "    <li>avg_neighbor_degree = Mean degree of nodes in the neighborhood of each node</li>\n",
    "    <li>avg_neighbor_degree_avg = Mean of all average neighborhood degrees in network</li>\n",
    "    <li>avg_weighted_neighbor_degree = Mean degree of nodes in the neighborhood of each node, weighted by edge length</li>\n",
    "    <li>avg_weighted_neighbor_degree_avg = Mean of all weighted average neighborhood degrees in network</li>\n",
    "    <li>degree_centrality = Fraction of nodes that each node is connected to</li>\n",
    "    <li>degree_centrality_avg = Mean of all degree centralities in network</li>\n",
    "    <li>clustering_coefficient = Extent to which node's neighborhood forms a complete graph</li>\n",
    "    <li>clustering_coefficient_avg</li>\n",
    "    <li>clustering_coefficient_weighted = Extent to which node's neighborhood forms a complete graph, weighted by edge length</li>\n",
    "    <li>clustering_coefficient_weighted_avg = Mean of weighted clustering coefficients of all nodes in network</li>\n",
    "    <li>pagerank = Ranking of nodes based on structure of incoming edges</li>\n",
    "    <li>pagerank_max_node = Node with the maximum PageRank</li>\n",
    "    <li>pagerank_max = Highest PageRank value of any node in the graph</li>\n",
    "    <li>pagerank_min_node = Node with the minimum PageRank</li>\n",
    "    <li>pagerank_min = Lowest PageRank value of any node in the graph</li>\n",
    "    <li>node_connectivity = Minimum number of nodes that must be removed to disconnect network</li>\n",
    "    <li>node_connectivity_avg = Expected number of nodes that must be removed to\tdisconnect randomly selected pair of non-adjacent nodes</li>\n",
    "    <li>edge_connectivity = Minimum number of edges that must be removed to disconnect network</li>\n",
    "    <li>eccentricity = For each node, the maximum distance from it to all other nodes, weighted by length</li>\n",
    "    <li>diameter = Maximum eccentricity of any node in network</li>\n",
    "    <li>radius = Minimum eccentricity of any node in network</li>\n",
    "    <li>center = Set of all nodes whose eccentricity equals the radius</li>\n",
    "    <li>periphery = Set of all nodes whose eccentricity equals the diameter</li>\n",
    "    <li>closeness_centrality = For each node, the reciprocal of the sum of the distance from the node to all other nodes in the graph, weighted by length</li>\n",
    "    <li>closeness_centrality_avg = Mean of all the closeness centralities of all the nodes in network</li>\n",
    "    <li>betweenness_centrality = For each node, the fraction of all shortest paths that pass through the node</li>\n",
    "    <li>betweenness_centrality_avg = Mean of all the betweenness centralities of all the nodes in network</li>\n",
    "</ul>"
   ]
  },
  {
   "cell_type": "code",
   "execution_count": 40,
   "metadata": {},
   "outputs": [],
   "source": [
    "# for each colonia polygon, find intersecting nodes then induce subgraph\n",
    "j = 0\n",
    "subgraphs_colonias = [] #vector for storing subgraphs\n",
    "stats = [] #vector for storing stats from osmnx\n",
    "vec = [] #vector for storing stats both basic and extended; only the values\n",
    "for i in range(colonias_yucatan_merida_kanasin.size):\n",
    "    j = j+1\n",
    "    if j == 10: #only the first 10 colonia; just for testing\n",
    "        break\n",
    "        \n",
    "    #polygon = colonias_yucatan_merida.iloc[i].geometry\n",
    "    #colonia_name = colonias_yucatan_merida.iloc[i].SETT_NAME\n",
    "    #mun_name = colonias_yucatan_merida.iloc[i].MUN_NAME\n",
    "    #ob_id = colonias_yucatan_merida.iloc[i].OBJECTID\n",
    "\n",
    "    \n",
    "    try: \n",
    "        #try/except for handling empty graphs; \n",
    "        #if the graph is empty, NetworkX raises an error and stops the loop;\n",
    "        #this code ignores the empty graphs in the except statement\n",
    "        intersecting_nodes = nodes[nodes.intersects(polygon)].index\n",
    "        G_sub = G.subgraph(intersecting_nodes)\n",
    "        subgraphs_colonias.append(G_sub)\n",
    "        stat = ox.basic_stats(G_sub, \n",
    "                              area=None, #the land area of this study site, in square meters. must be greater than 0. if None, will skip all density-based metrics.\n",
    "                              clean_intersects=False, #if True, calculate consolidated intersections count (and density, if area is provided) via consolidate_intersections function\n",
    "                              circuity_dist='gc') #‘gc’ or ‘euclidean’, how to calculate straight-line distances for circuity measurement; use former for lat-lng networks and latter for projected networks\n",
    "        extended_stat = ox.extended_stats(G_sub, \n",
    "                                          connectivity=False, #if True, calculate node and edge connectivity\n",
    "                                          anc=False, #if True, calculate average node connectivity\n",
    "                                          ecc=True, #calculate shortest paths, eccentricity, and topological metrics that use eccentricity\n",
    "                                          bc=True, #calculate node betweenness centrality\n",
    "                                          cc=True) #calculate node closeness centrality\n",
    "        for key, value in extended_stat.items():\n",
    "            stat[key] = value #insert the extended stats values\n",
    "        vec = [stat[elem] for elem in stat if isinstance(stat[elem], dict) == False] #add only the values except the dict type\n",
    "        stats.append(vec)\n",
    "        #print(ob_id + \", \" + colonia_name + \", \" + mun_name)\n",
    "        #fig, ax = ox.plot_graph(G_sub)\n",
    "    except:\n",
    "        pass"
   ]
  }
 ],
 "metadata": {
  "kernelspec": {
   "display_name": "Python 3",
   "language": "python",
   "name": "python3"
  },
  "language_info": {
   "codemirror_mode": {
    "name": "ipython",
    "version": 3
   },
   "file_extension": ".py",
   "mimetype": "text/x-python",
   "name": "python",
   "nbconvert_exporter": "python",
   "pygments_lexer": "ipython3",
   "version": "3.8.6"
  }
 },
 "nbformat": 4,
 "nbformat_minor": 4
}
