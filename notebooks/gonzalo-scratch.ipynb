{
 "cells": [
  {
   "cell_type": "code",
   "execution_count": 3,
   "metadata": {},
   "outputs": [
    {
     "data": {
      "text/plain": [
       "'1.0.1'"
      ]
     },
     "execution_count": 3,
     "metadata": {},
     "output_type": "execute_result"
    }
   ],
   "source": [
    "import matplotlib.cm as cm\n",
    "import matplotlib.colors as colors\n",
    "import matplotlib.pyplot as plt\n",
    "import networkx as nx\n",
    "import osmnx as ox\n",
    "import pandas as pd\n",
    "import geopandas as gpd\n",
    "from IPython.display import IFrame\n",
    "%matplotlib inline\n",
    "\n",
    "# turn response caching on and turn on logging to your terminal window\n",
    "ox.config(log_console=True, use_cache=True)\n",
    "\n",
    "ox.__version__"
   ]
  },
  {
   "cell_type": "markdown",
   "metadata": {},
   "source": [
    "## Get network with OSMnx"
   ]
  },
  {
   "cell_type": "markdown",
   "metadata": {},
   "source": [
    "OSMnx lets you download street network data and build topologically-corrected street networks, project and plot the networks, and save the street network as SVGs, GraphML files, GeoPackages, or shapefiles for later use. The street networks are directed and preserve one-way directionality.\n",
    "\n",
    "You can download a street network by providing OSMnx any of the following:\n",
    "  - a bounding box\n",
    "  - a lat-long point plus a distance\n",
    "  - an address plus a distance\n",
    "  - a place name or list of place names (to automatically geocode and get the boundary of)\n",
    "  - a polygon of the desired street network's boundaries\n",
    "  - a .osm formatted xml file\n",
    "  \n",
    "You can also specify several different network types:\n",
    "  - 'drive' - get drivable public streets (but not service roads)\n",
    "  - 'drive_service' - get drivable streets, including service roads\n",
    "  - 'walk' - get all streets and paths that pedestrians can use (this network type ignores one-way directionality)\n",
    "  - 'bike' - get all streets and paths that cyclists can use\n",
    "  - 'all' - download all non-private OSM streets and paths (this is the default network type unless you specify a different one)\n",
    "  - 'all_private' - download all OSM streets and paths, including private-access ones"
   ]
  },
  {
   "cell_type": "markdown",
   "metadata": {},
   "source": [
    "In the following, we define a function to download the graph for the city of Mérida, Yucatán, or, if already present, load it as an NetworkX graph object."
   ]
  },
  {
   "cell_type": "code",
   "execution_count": 83,
   "metadata": {},
   "outputs": [],
   "source": [
    "import pathlib\n",
    "\n",
    "filepath = pathlib.Path('./networks/merida-kanasin-road.graphml')\n",
    "\n",
    "if filepath.exists():\n",
    "    G = ox.load_graphml(filepath)\n",
    "else:\n",
    "    # get drivable public streets network, aka road network, without service roads,\n",
    "    # e.g. private, parking lots, etc.\n",
    "    # use retain_all if you want to keep all disconnected subgraphs (e.g. when your places aren't adjacent)\n",
    "    # TODO: is there away to know wich version of the graph are we using? And update the graph is needed?\n",
    "    # TODO: I would like to visualize different network options, service roads or not, keep_all or not\n",
    "    # TODO: It would be nice to setup up a polygon for the city and its surrounding areas, to be sure\n",
    "    # exactly the location.\n",
    "    places = [{'city' : 'Merida',\n",
    "             'state' : 'Yucatan',\n",
    "             'country' : 'Mexico'},\n",
    "             {'city' : 'Kanasin',\n",
    "             'state' : 'Yucatan',\n",
    "             'country' : 'Mexico'}]\n",
    "    G = ox.graph_from_place(places, network_type='drive')\n",
    "    ox.save_graphml(G, filepath=file, gephi=False)"
   ]
  },
  {
   "cell_type": "markdown",
   "metadata": {},
   "source": [
    "TODO: Discuss the graph objects, nodes and edges, and what attributes do they posses. Print an example of each."
   ]
  },
  {
   "cell_type": "markdown",
   "metadata": {},
   "source": [
    "Some general graph properties."
   ]
  },
  {
   "cell_type": "code",
   "execution_count": 86,
   "metadata": {},
   "outputs": [],
   "source": [
    "ox.save_graphml(G, filepath='./networks/merida-kanasin-road-gephi.graphml', gephi=True)"
   ]
  },
  {
   "cell_type": "code",
   "execution_count": 84,
   "metadata": {},
   "outputs": [
    {
     "data": {
      "text/plain": [
       "networkx.classes.multidigraph.MultiDiGraph"
      ]
     },
     "execution_count": 84,
     "metadata": {},
     "output_type": "execute_result"
    }
   ],
   "source": [
    "type(G)"
   ]
  },
  {
   "cell_type": "code",
   "execution_count": 85,
   "metadata": {},
   "outputs": [
    {
     "name": "stdout",
     "output_type": "stream",
     "text": [
      "The road network has 80160 edges and 29324 nodes\n"
     ]
    }
   ],
   "source": [
    "print(f\"The road network has {G.number_of_edges()} edges and {G.number_of_nodes()} nodes\")"
   ]
  },
  {
   "cell_type": "markdown",
   "metadata": {},
   "source": [
    "Nodes are street intersections, with y and x coordinates and the number of streets intersecting the node, and other potential attributes. \n",
    "\n",
    "Nodes are indexed by an integer value."
   ]
  },
  {
   "cell_type": "code",
   "execution_count": 53,
   "metadata": {},
   "outputs": [
    {
     "data": {
      "text/plain": [
       "{'y': 21.0118318, 'x': -89.6135586, 'street_count': 3}"
      ]
     },
     "execution_count": 53,
     "metadata": {},
     "output_type": "execute_result"
    }
   ],
   "source": [
    "G.nodes[287026838]"
   ]
  },
  {
   "cell_type": "markdown",
   "metadata": {},
   "source": [
    "We now list all attributes present in the graph nodes:"
   ]
  },
  {
   "cell_type": "code",
   "execution_count": 33,
   "metadata": {},
   "outputs": [
    {
     "data": {
      "text/plain": [
       "{'highway', 'street_count', 'x', 'y'}"
      ]
     },
     "execution_count": 33,
     "metadata": {},
     "output_type": "execute_result"
    }
   ],
   "source": [
    "from itertools import chain\n",
    "\n",
    "set(chain.from_iterable(d.keys() for *_, d in G.nodes(data=True)))"
   ]
  },
  {
   "cell_type": "markdown",
   "metadata": {},
   "source": [
    "We have a highway attribute, how many nodes have this attribute?"
   ]
  },
  {
   "cell_type": "code",
   "execution_count": 37,
   "metadata": {},
   "outputs": [
    {
     "data": {
      "text/plain": [
       "600"
      ]
     },
     "execution_count": 37,
     "metadata": {},
     "output_type": "execute_result"
    }
   ],
   "source": [
    "h_count = 0\n",
    "for node, attr in G.nodes.items():\n",
    "    if 'highway' in attr.keys():\n",
    "        h_count += 1\n",
    "h_count"
   ]
  },
  {
   "cell_type": "markdown",
   "metadata": {},
   "source": [
    "What are its possible values?"
   ]
  },
  {
   "cell_type": "code",
   "execution_count": 48,
   "metadata": {},
   "outputs": [
    {
     "data": {
      "text/plain": [
       "{'crossing',\n",
       " 'mini_roundabout',\n",
       " 'passing_place',\n",
       " 'traffic_signals',\n",
       " 'turning_circle',\n",
       " 'turning_loop'}"
      ]
     },
     "execution_count": 48,
     "metadata": {},
     "output_type": "execute_result"
    }
   ],
   "source": [
    "set(nx.get_node_attributes(G, 'highway').values())"
   ]
  },
  {
   "cell_type": "markdown",
   "metadata": {},
   "source": [
    "Edges are roads and are indexed by their starting and ending nodes, and a zero(TODO; what is that zero?). They are tuple objects.\n",
    "\n",
    "OK, the zero is the edge key, since in a multigraph we can have potentially more than one edge between a pair of nodes, each edge is identofied by a key.\n",
    "\n",
    "TODO: Determine is this is indeed a multigraph. Are more than one edge for any pair of nodes? Use the key."
   ]
  },
  {
   "cell_type": "code",
   "execution_count": 71,
   "metadata": {},
   "outputs": [
    {
     "name": "stdout",
     "output_type": "stream",
     "text": [
      "2028847780 2028847782\n",
      "2028847782 2028847780\n"
     ]
    }
   ],
   "source": [
    "for u in G.nodes():\n",
    "    for neighbor in G.neighbors(u):\n",
    "        if G.number_of_edges(u, neighbor) > 2:\n",
    "            print (u,neighbor)"
   ]
  },
  {
   "cell_type": "code",
   "execution_count": 76,
   "metadata": {},
   "outputs": [
    {
     "data": {
      "text/plain": [
       "{'osmid': 443843678,\n",
       " 'name': 'Calle 32',\n",
       " 'highway': 'residential',\n",
       " 'oneway': False,\n",
       " 'length': 53.545}"
      ]
     },
     "execution_count": 76,
     "metadata": {},
     "output_type": "execute_result"
    }
   ],
   "source": [
    "G.edges[2028847780, 2028847782, 0]"
   ]
  },
  {
   "cell_type": "code",
   "execution_count": 78,
   "metadata": {},
   "outputs": [
    {
     "data": {
      "text/plain": [
       "{'osmid': [369316954, 369316955, 369316951],\n",
       " 'name': ['Calle 39-A', 'Calle 30', 'Calle 39B-1'],\n",
       " 'highway': 'residential',\n",
       " 'oneway': False,\n",
       " 'length': 188.21699999999998,\n",
       " 'geometry': <shapely.geometry.linestring.LineString at 0x7f64680b56a0>}"
      ]
     },
     "execution_count": 78,
     "metadata": {},
     "output_type": "execute_result"
    }
   ],
   "source": [
    "G.edges[2028847782, 2028847780, 1]"
   ]
  },
  {
   "cell_type": "markdown",
   "metadata": {},
   "source": [
    "We now list all available attributes."
   ]
  },
  {
   "cell_type": "code",
   "execution_count": 50,
   "metadata": {},
   "outputs": [
    {
     "data": {
      "text/plain": [
       "{'access',\n",
       " 'bridge',\n",
       " 'geometry',\n",
       " 'highway',\n",
       " 'junction',\n",
       " 'lanes',\n",
       " 'length',\n",
       " 'maxspeed',\n",
       " 'name',\n",
       " 'oneway',\n",
       " 'osmid',\n",
       " 'ref',\n",
       " 'tunnel',\n",
       " 'width'}"
      ]
     },
     "execution_count": 50,
     "metadata": {},
     "output_type": "execute_result"
    }
   ],
   "source": [
    "set(chain.from_iterable(d.keys() for *_, d in G.edges(data=True)))"
   ]
  },
  {
   "cell_type": "markdown",
   "metadata": {},
   "source": [
    "TODO: Explore what are each of these, their possible values and units, the projection in case of the geometry, and how many nodes posses each attribute (or fraction of total nodes) to give an idea of how useful they are."
   ]
  },
  {
   "cell_type": "markdown",
   "metadata": {},
   "source": [
    "TODO: Visualize tha graph with all attributes either printed or as an overlay."
   ]
  },
  {
   "cell_type": "code",
   "execution_count": 96,
   "metadata": {},
   "outputs": [],
   "source": [
    "m1 = ox.plot_graph_folium(G, popup_attribute='name', weight=2, color='#8b0000')"
   ]
  },
  {
   "cell_type": "code",
   "execution_count": 99,
   "metadata": {},
   "outputs": [],
   "source": [
    "folium.LayerControl().add_to(m1)\n",
    "m1.save('osmnx-folium.html')"
   ]
  },
  {
   "cell_type": "code",
   "execution_count": 95,
   "metadata": {},
   "outputs": [
    {
     "data": {
      "text/html": [
       "<div style=\"width:100%;\"><div style=\"position:relative;width:100%;height:0;padding-bottom:60%;\"><span style=\"color:#565656\">Make this Notebook Trusted to load map: File -> Trust Notebook</span><iframe src=\"about:blank\" style=\"position:absolute;width:100%;height:100%;left:0;top:0;border:none !important;\" data-html=%3C%21DOCTYPE%20html%3E%0A%3Chead%3E%20%20%20%20%0A%20%20%20%20%3Cmeta%20http-equiv%3D%22content-type%22%20content%3D%22text/html%3B%20charset%3DUTF-8%22%20/%3E%0A%20%20%20%20%0A%20%20%20%20%20%20%20%20%3Cscript%3E%0A%20%20%20%20%20%20%20%20%20%20%20%20L_NO_TOUCH%20%3D%20false%3B%0A%20%20%20%20%20%20%20%20%20%20%20%20L_DISABLE_3D%20%3D%20false%3B%0A%20%20%20%20%20%20%20%20%3C/script%3E%0A%20%20%20%20%0A%20%20%20%20%3Cstyle%3Ehtml%2C%20body%20%7Bwidth%3A%20100%25%3Bheight%3A%20100%25%3Bmargin%3A%200%3Bpadding%3A%200%3B%7D%3C/style%3E%0A%20%20%20%20%3Cstyle%3E%23map%20%7Bposition%3Aabsolute%3Btop%3A0%3Bbottom%3A0%3Bright%3A0%3Bleft%3A0%3B%7D%3C/style%3E%0A%20%20%20%20%3Cscript%20src%3D%22https%3A//cdn.jsdelivr.net/npm/leaflet%401.6.0/dist/leaflet.js%22%3E%3C/script%3E%0A%20%20%20%20%3Cscript%20src%3D%22https%3A//code.jquery.com/jquery-1.12.4.min.js%22%3E%3C/script%3E%0A%20%20%20%20%3Cscript%20src%3D%22https%3A//maxcdn.bootstrapcdn.com/bootstrap/3.2.0/js/bootstrap.min.js%22%3E%3C/script%3E%0A%20%20%20%20%3Cscript%20src%3D%22https%3A//cdnjs.cloudflare.com/ajax/libs/Leaflet.awesome-markers/2.0.2/leaflet.awesome-markers.js%22%3E%3C/script%3E%0A%20%20%20%20%3Clink%20rel%3D%22stylesheet%22%20href%3D%22https%3A//cdn.jsdelivr.net/npm/leaflet%401.6.0/dist/leaflet.css%22/%3E%0A%20%20%20%20%3Clink%20rel%3D%22stylesheet%22%20href%3D%22https%3A//maxcdn.bootstrapcdn.com/bootstrap/3.2.0/css/bootstrap.min.css%22/%3E%0A%20%20%20%20%3Clink%20rel%3D%22stylesheet%22%20href%3D%22https%3A//maxcdn.bootstrapcdn.com/bootstrap/3.2.0/css/bootstrap-theme.min.css%22/%3E%0A%20%20%20%20%3Clink%20rel%3D%22stylesheet%22%20href%3D%22https%3A//maxcdn.bootstrapcdn.com/font-awesome/4.6.3/css/font-awesome.min.css%22/%3E%0A%20%20%20%20%3Clink%20rel%3D%22stylesheet%22%20href%3D%22https%3A//cdnjs.cloudflare.com/ajax/libs/Leaflet.awesome-markers/2.0.2/leaflet.awesome-markers.css%22/%3E%0A%20%20%20%20%3Clink%20rel%3D%22stylesheet%22%20href%3D%22https%3A//cdn.jsdelivr.net/gh/python-visualization/folium/folium/templates/leaflet.awesome.rotate.min.css%22/%3E%0A%20%20%20%20%0A%20%20%20%20%20%20%20%20%20%20%20%20%3Cmeta%20name%3D%22viewport%22%20content%3D%22width%3Ddevice-width%2C%0A%20%20%20%20%20%20%20%20%20%20%20%20%20%20%20%20initial-scale%3D1.0%2C%20maximum-scale%3D1.0%2C%20user-scalable%3Dno%22%20/%3E%0A%20%20%20%20%20%20%20%20%20%20%20%20%3Cstyle%3E%0A%20%20%20%20%20%20%20%20%20%20%20%20%20%20%20%20%23map_67014b9c0adf4bc698125a849787c2a7%20%7B%0A%20%20%20%20%20%20%20%20%20%20%20%20%20%20%20%20%20%20%20%20position%3A%20relative%3B%0A%20%20%20%20%20%20%20%20%20%20%20%20%20%20%20%20%20%20%20%20width%3A%20100.0%25%3B%0A%20%20%20%20%20%20%20%20%20%20%20%20%20%20%20%20%20%20%20%20height%3A%20100.0%25%3B%0A%20%20%20%20%20%20%20%20%20%20%20%20%20%20%20%20%20%20%20%20left%3A%200.0%25%3B%0A%20%20%20%20%20%20%20%20%20%20%20%20%20%20%20%20%20%20%20%20top%3A%200.0%25%3B%0A%20%20%20%20%20%20%20%20%20%20%20%20%20%20%20%20%7D%0A%20%20%20%20%20%20%20%20%20%20%20%20%3C/style%3E%0A%20%20%20%20%20%20%20%20%0A%3C/head%3E%0A%3Cbody%3E%20%20%20%20%0A%20%20%20%20%0A%20%20%20%20%20%20%20%20%20%20%20%20%3Cdiv%20class%3D%22folium-map%22%20id%3D%22map_67014b9c0adf4bc698125a849787c2a7%22%20%3E%3C/div%3E%0A%20%20%20%20%20%20%20%20%0A%3C/body%3E%0A%3Cscript%3E%20%20%20%20%0A%20%20%20%20%0A%20%20%20%20%20%20%20%20%20%20%20%20var%20map_67014b9c0adf4bc698125a849787c2a7%20%3D%20L.map%28%0A%20%20%20%20%20%20%20%20%20%20%20%20%20%20%20%20%22map_67014b9c0adf4bc698125a849787c2a7%22%2C%0A%20%20%20%20%20%20%20%20%20%20%20%20%20%20%20%20%7B%0A%20%20%20%20%20%20%20%20%20%20%20%20%20%20%20%20%20%20%20%20center%3A%20%5B20.9674%2C%20-89.5926%5D%2C%0A%20%20%20%20%20%20%20%20%20%20%20%20%20%20%20%20%20%20%20%20crs%3A%20L.CRS.EPSG3857%2C%0A%20%20%20%20%20%20%20%20%20%20%20%20%20%20%20%20%20%20%20%20zoom%3A%2011.5%2C%0A%20%20%20%20%20%20%20%20%20%20%20%20%20%20%20%20%20%20%20%20zoomControl%3A%20true%2C%0A%20%20%20%20%20%20%20%20%20%20%20%20%20%20%20%20%20%20%20%20preferCanvas%3A%20false%2C%0A%20%20%20%20%20%20%20%20%20%20%20%20%20%20%20%20%7D%0A%20%20%20%20%20%20%20%20%20%20%20%20%29%3B%0A%0A%20%20%20%20%20%20%20%20%20%20%20%20%0A%0A%20%20%20%20%20%20%20%20%0A%20%20%20%20%0A%20%20%20%20%20%20%20%20%20%20%20%20var%20tile_layer_c6f4641b48964b9b9a5befa160226fbe%20%3D%20L.tileLayer%28%0A%20%20%20%20%20%20%20%20%20%20%20%20%20%20%20%20%22https%3A//%7Bs%7D.tile.openstreetmap.org/%7Bz%7D/%7Bx%7D/%7By%7D.png%22%2C%0A%20%20%20%20%20%20%20%20%20%20%20%20%20%20%20%20%7B%22attribution%22%3A%20%22Data%20by%20%5Cu0026copy%3B%20%5Cu003ca%20href%3D%5C%22http%3A//openstreetmap.org%5C%22%5Cu003eOpenStreetMap%5Cu003c/a%5Cu003e%2C%20under%20%5Cu003ca%20href%3D%5C%22http%3A//www.openstreetmap.org/copyright%5C%22%5Cu003eODbL%5Cu003c/a%5Cu003e.%22%2C%20%22detectRetina%22%3A%20false%2C%20%22maxNativeZoom%22%3A%2018%2C%20%22maxZoom%22%3A%2018%2C%20%22minZoom%22%3A%200%2C%20%22noWrap%22%3A%20false%2C%20%22opacity%22%3A%201%2C%20%22subdomains%22%3A%20%22abc%22%2C%20%22tms%22%3A%20false%7D%0A%20%20%20%20%20%20%20%20%20%20%20%20%29.addTo%28map_67014b9c0adf4bc698125a849787c2a7%29%3B%0A%20%20%20%20%20%20%20%20%0A%3C/script%3E onload=\"this.contentDocument.open();this.contentDocument.write(    decodeURIComponent(this.getAttribute('data-html')));this.contentDocument.close();\" allowfullscreen webkitallowfullscreen mozallowfullscreen></iframe></div></div>"
      ],
      "text/plain": [
       "<folium.folium.Map at 0x7f646ee35100>"
      ]
     },
     "execution_count": 95,
     "metadata": {},
     "output_type": "execute_result"
    }
   ],
   "source": [
    "import folium\n",
    "from folium.plugins import FastMarkerCluster\n",
    "\n",
    "m = folium.Map(location=[20.9674, -89.5926], zoom_start=11.5)\n",
    "\n",
    "m"
   ]
  },
  {
   "cell_type": "markdown",
   "metadata": {},
   "source": [
    "## Importing shapefiles containing polygons of Colonias de Mexico using GeoPandas (http://datamx.io/dataset/colonias-mexico)"
   ]
  },
  {
   "cell_type": "markdown",
   "metadata": {},
   "source": [
    "In order to perform some analysis involving how data metrics change with scale, we import the neiborhoods of the city as shapefiles to create a subgraph for each different neigborhood."
   ]
  },
  {
   "cell_type": "code",
   "execution_count": 5,
   "metadata": {},
   "outputs": [
    {
     "data": {
      "text/html": [
       "<div>\n",
       "<style scoped>\n",
       "    .dataframe tbody tr th:only-of-type {\n",
       "        vertical-align: middle;\n",
       "    }\n",
       "\n",
       "    .dataframe tbody tr th {\n",
       "        vertical-align: top;\n",
       "    }\n",
       "\n",
       "    .dataframe thead th {\n",
       "        text-align: right;\n",
       "    }\n",
       "</style>\n",
       "<table border=\"1\" class=\"dataframe\">\n",
       "  <thead>\n",
       "    <tr style=\"text-align: right;\">\n",
       "      <th></th>\n",
       "      <th>OBJECTID</th>\n",
       "      <th>POSTALCODE</th>\n",
       "      <th>ST_NAME</th>\n",
       "      <th>MUN_NAME</th>\n",
       "      <th>SETT_NAME</th>\n",
       "      <th>SETT_TYPE</th>\n",
       "      <th>AREA</th>\n",
       "      <th>Shape_Leng</th>\n",
       "      <th>Shape_Area</th>\n",
       "      <th>geometry</th>\n",
       "    </tr>\n",
       "  </thead>\n",
       "  <tbody>\n",
       "    <tr>\n",
       "      <th>56515</th>\n",
       "      <td>56516</td>\n",
       "      <td>97000</td>\n",
       "      <td>YUCATAN</td>\n",
       "      <td>MÉRIDA</td>\n",
       "      <td>BARRIO SAN SEBASTIAN</td>\n",
       "      <td>FRACCIONAMIENTO</td>\n",
       "      <td>724836804.0</td>\n",
       "      <td>0.028660</td>\n",
       "      <td>0.000038</td>\n",
       "      <td>POLYGON Z ((-89.63250 20.96072 0.00000, -89.63...</td>\n",
       "    </tr>\n",
       "    <tr>\n",
       "      <th>56516</th>\n",
       "      <td>56517</td>\n",
       "      <td>97000</td>\n",
       "      <td>YUCATAN</td>\n",
       "      <td>MÉRIDA</td>\n",
       "      <td>BARRIO SANTA ANA</td>\n",
       "      <td>FRACCIONAMIENTO</td>\n",
       "      <td>724836804.0</td>\n",
       "      <td>0.031112</td>\n",
       "      <td>0.000051</td>\n",
       "      <td>POLYGON Z ((-89.62424 20.97568 0.00000, -89.62...</td>\n",
       "    </tr>\n",
       "    <tr>\n",
       "      <th>56517</th>\n",
       "      <td>56518</td>\n",
       "      <td>97000</td>\n",
       "      <td>YUCATAN</td>\n",
       "      <td>MÉRIDA</td>\n",
       "      <td>BARRIO SANTIAGO</td>\n",
       "      <td>FRACCIONAMIENTO</td>\n",
       "      <td>724836804.0</td>\n",
       "      <td>0.023338</td>\n",
       "      <td>0.000034</td>\n",
       "      <td>POLYGON Z ((-89.62914 20.96978 0.00000, -89.62...</td>\n",
       "    </tr>\n",
       "  </tbody>\n",
       "</table>\n",
       "</div>"
      ],
      "text/plain": [
       "       OBJECTID POSTALCODE  ST_NAME MUN_NAME             SETT_NAME  \\\n",
       "56515     56516      97000  YUCATAN   MÉRIDA  BARRIO SAN SEBASTIAN   \n",
       "56516     56517      97000  YUCATAN   MÉRIDA      BARRIO SANTA ANA   \n",
       "56517     56518      97000  YUCATAN   MÉRIDA       BARRIO SANTIAGO   \n",
       "\n",
       "             SETT_TYPE         AREA  Shape_Leng  Shape_Area  \\\n",
       "56515  FRACCIONAMIENTO  724836804.0    0.028660    0.000038   \n",
       "56516  FRACCIONAMIENTO  724836804.0    0.031112    0.000051   \n",
       "56517  FRACCIONAMIENTO  724836804.0    0.023338    0.000034   \n",
       "\n",
       "                                                geometry  \n",
       "56515  POLYGON Z ((-89.63250 20.96072 0.00000, -89.63...  \n",
       "56516  POLYGON Z ((-89.62424 20.97568 0.00000, -89.62...  \n",
       "56517  POLYGON Z ((-89.62914 20.96978 0.00000, -89.62...  "
      ]
     },
     "execution_count": 5,
     "metadata": {},
     "output_type": "execute_result"
    }
   ],
   "source": [
    "#read the files from the Colonias folder using geopandas just as if we were using only pandas\n",
    "colonias = gpd.read_file('input_data/coloniasmexico/Colonias/')\n",
    "\n",
    "#query to filter only the colonias from Merida municipality of Yucatan state\n",
    "colonias_yucatan_merida = colonias[(colonias['ST_NAME']=='YUCATAN') & (colonias['MUN_NAME'] == 'MÉRIDA')]\n",
    "\n",
    "#query to filter only the colonias from Kanasin municipality of Yucatan state\n",
    "colonias_yucatan_kanasin = colonias[(colonias['ST_NAME']=='YUCATAN') & (colonias['MUN_NAME'] == 'KANASÍN')]\n",
    "\n",
    "colonias_yucatan_merida_kanasin = pd.concat([colonias_yucatan_merida, colonias_yucatan_kanasin])\n",
    "\n",
    "colonias_yucatan_merida_kanasin.head(3)"
   ]
  },
  {
   "cell_type": "markdown",
   "metadata": {},
   "source": [
    "The reference system used in the neiborhoods shpefile is WGS 84 (explain a little about this). It seems to me, it is not too important, as nodes are geolocated, but may be important when we define out own polygons to query subregions."
   ]
  },
  {
   "cell_type": "code",
   "execution_count": 41,
   "metadata": {},
   "outputs": [
    {
     "data": {
      "text/plain": [
       "<Geographic 2D CRS: EPSG:4326>\n",
       "Name: WGS 84\n",
       "Axis Info [ellipsoidal]:\n",
       "- Lat[north]: Geodetic latitude (degree)\n",
       "- Lon[east]: Geodetic longitude (degree)\n",
       "Area of Use:\n",
       "- name: World.\n",
       "- bounds: (-180.0, -90.0, 180.0, 90.0)\n",
       "Datum: World Geodetic System 1984\n",
       "- Ellipsoid: WGS 84\n",
       "- Prime Meridian: Greenwich"
      ]
     },
     "execution_count": 41,
     "metadata": {},
     "output_type": "execute_result"
    }
   ],
   "source": [
    "#view info of the Coordinate Reference System (CRS)\n",
    "colonias_yucatan_merida_kanasin.crs"
   ]
  },
  {
   "cell_type": "markdown",
   "metadata": {},
   "source": [
    "TODO: Display a visualization of the colonias and the road network."
   ]
  },
  {
   "cell_type": "markdown",
   "metadata": {},
   "source": [
    "TODO: Create or obtain polygons for the main zones of the city, as in http://isla.merida.gob.mx/serviciosinternet/ordenamientoterritorial/docs/estrategico/E_01_ZONAS__PRIMARIAS.jpg.\n",
    "O for the 5 main zones, north, south, east, west and center.\n",
    "\n",
    "Also consider: http://isla.merida.gob.mx/serviciosinternet/ordenamientoterritorial/paginas/pmdu.phpx\n",
    "Check what kind of data can we obtain from there."
   ]
  },
  {
   "cell_type": "markdown",
   "metadata": {},
   "source": [
    "## Creating vector of measures for each Colonia as subgraph"
   ]
  },
  {
   "cell_type": "code",
   "execution_count": 36,
   "metadata": {},
   "outputs": [],
   "source": [
    "#extract nodes as a geodataframe\n",
    "nodes = ox.graph_to_gdfs(G, edges=False)"
   ]
  },
  {
   "cell_type": "code",
   "execution_count": 37,
   "metadata": {},
   "outputs": [
    {
     "data": {
      "text/html": [
       "<div>\n",
       "<style scoped>\n",
       "    .dataframe tbody tr th:only-of-type {\n",
       "        vertical-align: middle;\n",
       "    }\n",
       "\n",
       "    .dataframe tbody tr th {\n",
       "        vertical-align: top;\n",
       "    }\n",
       "\n",
       "    .dataframe thead th {\n",
       "        text-align: right;\n",
       "    }\n",
       "</style>\n",
       "<table border=\"1\" class=\"dataframe\">\n",
       "  <thead>\n",
       "    <tr style=\"text-align: right;\">\n",
       "      <th></th>\n",
       "      <th>y</th>\n",
       "      <th>x</th>\n",
       "      <th>street_count</th>\n",
       "      <th>highway</th>\n",
       "      <th>geometry</th>\n",
       "    </tr>\n",
       "    <tr>\n",
       "      <th>osmid</th>\n",
       "      <th></th>\n",
       "      <th></th>\n",
       "      <th></th>\n",
       "      <th></th>\n",
       "      <th></th>\n",
       "    </tr>\n",
       "  </thead>\n",
       "  <tbody>\n",
       "    <tr>\n",
       "      <th>286974477</th>\n",
       "      <td>20.900216</td>\n",
       "      <td>-89.509268</td>\n",
       "      <td>4</td>\n",
       "      <td>NaN</td>\n",
       "      <td>POINT (-89.50927 20.90022)</td>\n",
       "    </tr>\n",
       "    <tr>\n",
       "      <th>286974740</th>\n",
       "      <td>20.905018</td>\n",
       "      <td>-89.526717</td>\n",
       "      <td>3</td>\n",
       "      <td>NaN</td>\n",
       "      <td>POINT (-89.52672 20.90502)</td>\n",
       "    </tr>\n",
       "    <tr>\n",
       "      <th>286974743</th>\n",
       "      <td>20.924688</td>\n",
       "      <td>-89.560150</td>\n",
       "      <td>4</td>\n",
       "      <td>NaN</td>\n",
       "      <td>POINT (-89.56015 20.92469)</td>\n",
       "    </tr>\n",
       "    <tr>\n",
       "      <th>287020194</th>\n",
       "      <td>20.896659</td>\n",
       "      <td>-89.647519</td>\n",
       "      <td>3</td>\n",
       "      <td>NaN</td>\n",
       "      <td>POINT (-89.64752 20.89666)</td>\n",
       "    </tr>\n",
       "    <tr>\n",
       "      <th>287020195</th>\n",
       "      <td>20.908412</td>\n",
       "      <td>-89.625401</td>\n",
       "      <td>3</td>\n",
       "      <td>NaN</td>\n",
       "      <td>POINT (-89.62540 20.90841)</td>\n",
       "    </tr>\n",
       "  </tbody>\n",
       "</table>\n",
       "</div>"
      ],
      "text/plain": [
       "                   y          x  street_count highway  \\\n",
       "osmid                                                   \n",
       "286974477  20.900216 -89.509268             4     NaN   \n",
       "286974740  20.905018 -89.526717             3     NaN   \n",
       "286974743  20.924688 -89.560150             4     NaN   \n",
       "287020194  20.896659 -89.647519             3     NaN   \n",
       "287020195  20.908412 -89.625401             3     NaN   \n",
       "\n",
       "                             geometry  \n",
       "osmid                                  \n",
       "286974477  POINT (-89.50927 20.90022)  \n",
       "286974740  POINT (-89.52672 20.90502)  \n",
       "286974743  POINT (-89.56015 20.92469)  \n",
       "287020194  POINT (-89.64752 20.89666)  \n",
       "287020195  POINT (-89.62540 20.90841)  "
      ]
     },
     "execution_count": 37,
     "metadata": {},
     "output_type": "execute_result"
    }
   ],
   "source": [
    "nodes.head()"
   ]
  },
  {
   "cell_type": "code",
   "execution_count": 42,
   "metadata": {},
   "outputs": [
    {
     "data": {
      "text/plain": [
       "<Geographic 2D CRS: EPSG:4326>\n",
       "Name: WGS 84\n",
       "Axis Info [ellipsoidal]:\n",
       "- Lat[north]: Geodetic latitude (degree)\n",
       "- Lon[east]: Geodetic longitude (degree)\n",
       "Area of Use:\n",
       "- name: World.\n",
       "- bounds: (-180.0, -90.0, 180.0, 90.0)\n",
       "Datum: World Geodetic System 1984\n",
       "- Ellipsoid: WGS 84\n",
       "- Prime Meridian: Greenwich"
      ]
     },
     "execution_count": 42,
     "metadata": {},
     "output_type": "execute_result"
    }
   ],
   "source": [
    "nodes.crs"
   ]
  },
  {
   "cell_type": "code",
   "execution_count": 38,
   "metadata": {},
   "outputs": [],
   "source": [
    "#extract edges as a geodataframe\n",
    "edges = ox.graph_to_gdfs(G, nodes=False)"
   ]
  },
  {
   "cell_type": "code",
   "execution_count": 39,
   "metadata": {},
   "outputs": [
    {
     "data": {
      "text/html": [
       "<div>\n",
       "<style scoped>\n",
       "    .dataframe tbody tr th:only-of-type {\n",
       "        vertical-align: middle;\n",
       "    }\n",
       "\n",
       "    .dataframe tbody tr th {\n",
       "        vertical-align: top;\n",
       "    }\n",
       "\n",
       "    .dataframe thead th {\n",
       "        text-align: right;\n",
       "    }\n",
       "</style>\n",
       "<table border=\"1\" class=\"dataframe\">\n",
       "  <thead>\n",
       "    <tr style=\"text-align: right;\">\n",
       "      <th></th>\n",
       "      <th></th>\n",
       "      <th></th>\n",
       "      <th>osmid</th>\n",
       "      <th>oneway</th>\n",
       "      <th>ref</th>\n",
       "      <th>highway</th>\n",
       "      <th>maxspeed</th>\n",
       "      <th>length</th>\n",
       "      <th>geometry</th>\n",
       "      <th>name</th>\n",
       "      <th>lanes</th>\n",
       "      <th>bridge</th>\n",
       "      <th>junction</th>\n",
       "      <th>tunnel</th>\n",
       "      <th>width</th>\n",
       "      <th>access</th>\n",
       "    </tr>\n",
       "    <tr>\n",
       "      <th>u</th>\n",
       "      <th>v</th>\n",
       "      <th>key</th>\n",
       "      <th></th>\n",
       "      <th></th>\n",
       "      <th></th>\n",
       "      <th></th>\n",
       "      <th></th>\n",
       "      <th></th>\n",
       "      <th></th>\n",
       "      <th></th>\n",
       "      <th></th>\n",
       "      <th></th>\n",
       "      <th></th>\n",
       "      <th></th>\n",
       "      <th></th>\n",
       "      <th></th>\n",
       "    </tr>\n",
       "  </thead>\n",
       "  <tbody>\n",
       "    <tr>\n",
       "      <th rowspan=\"2\" valign=\"top\">286974477</th>\n",
       "      <th>5443055966</th>\n",
       "      <th>0</th>\n",
       "      <td>42683673</td>\n",
       "      <td>True</td>\n",
       "      <td>MEX 188</td>\n",
       "      <td>primary</td>\n",
       "      <td>90</td>\n",
       "      <td>173.530</td>\n",
       "      <td>LINESTRING (-89.50927 20.90022, -89.50960 20.8...</td>\n",
       "      <td>NaN</td>\n",
       "      <td>NaN</td>\n",
       "      <td>NaN</td>\n",
       "      <td>NaN</td>\n",
       "      <td>NaN</td>\n",
       "      <td>NaN</td>\n",
       "      <td>NaN</td>\n",
       "    </tr>\n",
       "    <tr>\n",
       "      <th>2198242153</th>\n",
       "      <th>0</th>\n",
       "      <td>209633188</td>\n",
       "      <td>False</td>\n",
       "      <td>NaN</td>\n",
       "      <td>residential</td>\n",
       "      <td>NaN</td>\n",
       "      <td>829.226</td>\n",
       "      <td>LINESTRING (-89.50927 20.90022, -89.50946 20.9...</td>\n",
       "      <td>NaN</td>\n",
       "      <td>NaN</td>\n",
       "      <td>NaN</td>\n",
       "      <td>NaN</td>\n",
       "      <td>NaN</td>\n",
       "      <td>NaN</td>\n",
       "      <td>NaN</td>\n",
       "    </tr>\n",
       "    <tr>\n",
       "      <th rowspan=\"3\" valign=\"top\">286974740</th>\n",
       "      <th>2198242162</th>\n",
       "      <th>0</th>\n",
       "      <td>27528695</td>\n",
       "      <td>False</td>\n",
       "      <td>NaN</td>\n",
       "      <td>tertiary</td>\n",
       "      <td>NaN</td>\n",
       "      <td>518.353</td>\n",
       "      <td>LINESTRING (-89.52672 20.90502, -89.52500 20.9...</td>\n",
       "      <td>NaN</td>\n",
       "      <td>NaN</td>\n",
       "      <td>NaN</td>\n",
       "      <td>NaN</td>\n",
       "      <td>NaN</td>\n",
       "      <td>NaN</td>\n",
       "      <td>NaN</td>\n",
       "    </tr>\n",
       "    <tr>\n",
       "      <th>5011841588</th>\n",
       "      <th>0</th>\n",
       "      <td>[786072812, 42683694]</td>\n",
       "      <td>False</td>\n",
       "      <td>NaN</td>\n",
       "      <td>tertiary</td>\n",
       "      <td>NaN</td>\n",
       "      <td>1679.496</td>\n",
       "      <td>LINESTRING (-89.52672 20.90502, -89.52771 20.9...</td>\n",
       "      <td>Calle 21</td>\n",
       "      <td>NaN</td>\n",
       "      <td>NaN</td>\n",
       "      <td>NaN</td>\n",
       "      <td>NaN</td>\n",
       "      <td>NaN</td>\n",
       "      <td>NaN</td>\n",
       "    </tr>\n",
       "    <tr>\n",
       "      <th>1889020903</th>\n",
       "      <th>0</th>\n",
       "      <td>42683694</td>\n",
       "      <td>False</td>\n",
       "      <td>NaN</td>\n",
       "      <td>tertiary</td>\n",
       "      <td>NaN</td>\n",
       "      <td>973.604</td>\n",
       "      <td>LINESTRING (-89.52672 20.90502, -89.52636 20.9...</td>\n",
       "      <td>NaN</td>\n",
       "      <td>NaN</td>\n",
       "      <td>NaN</td>\n",
       "      <td>NaN</td>\n",
       "      <td>NaN</td>\n",
       "      <td>NaN</td>\n",
       "      <td>NaN</td>\n",
       "    </tr>\n",
       "  </tbody>\n",
       "</table>\n",
       "</div>"
      ],
      "text/plain": [
       "                                          osmid  oneway      ref      highway  \\\n",
       "u         v          key                                                        \n",
       "286974477 5443055966 0                 42683673    True  MEX 188      primary   \n",
       "          2198242153 0                209633188   False      NaN  residential   \n",
       "286974740 2198242162 0                 27528695   False      NaN     tertiary   \n",
       "          5011841588 0    [786072812, 42683694]   False      NaN     tertiary   \n",
       "          1889020903 0                 42683694   False      NaN     tertiary   \n",
       "\n",
       "                         maxspeed    length  \\\n",
       "u         v          key                      \n",
       "286974477 5443055966 0         90   173.530   \n",
       "          2198242153 0        NaN   829.226   \n",
       "286974740 2198242162 0        NaN   518.353   \n",
       "          5011841588 0        NaN  1679.496   \n",
       "          1889020903 0        NaN   973.604   \n",
       "\n",
       "                                                                   geometry  \\\n",
       "u         v          key                                                      \n",
       "286974477 5443055966 0    LINESTRING (-89.50927 20.90022, -89.50960 20.8...   \n",
       "          2198242153 0    LINESTRING (-89.50927 20.90022, -89.50946 20.9...   \n",
       "286974740 2198242162 0    LINESTRING (-89.52672 20.90502, -89.52500 20.9...   \n",
       "          5011841588 0    LINESTRING (-89.52672 20.90502, -89.52771 20.9...   \n",
       "          1889020903 0    LINESTRING (-89.52672 20.90502, -89.52636 20.9...   \n",
       "\n",
       "                              name lanes bridge junction tunnel width access  \n",
       "u         v          key                                                      \n",
       "286974477 5443055966 0         NaN   NaN    NaN      NaN    NaN   NaN    NaN  \n",
       "          2198242153 0         NaN   NaN    NaN      NaN    NaN   NaN    NaN  \n",
       "286974740 2198242162 0         NaN   NaN    NaN      NaN    NaN   NaN    NaN  \n",
       "          5011841588 0    Calle 21   NaN    NaN      NaN    NaN   NaN    NaN  \n",
       "          1889020903 0         NaN   NaN    NaN      NaN    NaN   NaN    NaN  "
      ]
     },
     "execution_count": 39,
     "metadata": {},
     "output_type": "execute_result"
    }
   ],
   "source": [
    "edges.head()"
   ]
  },
  {
   "cell_type": "code",
   "execution_count": 43,
   "metadata": {},
   "outputs": [
    {
     "data": {
      "text/plain": [
       "<Geographic 2D CRS: EPSG:4326>\n",
       "Name: WGS 84\n",
       "Axis Info [ellipsoidal]:\n",
       "- Lat[north]: Geodetic latitude (degree)\n",
       "- Lon[east]: Geodetic longitude (degree)\n",
       "Area of Use:\n",
       "- name: World.\n",
       "- bounds: (-180.0, -90.0, 180.0, 90.0)\n",
       "Datum: World Geodetic System 1984\n",
       "- Ellipsoid: WGS 84\n",
       "- Prime Meridian: Greenwich"
      ]
     },
     "execution_count": 43,
     "metadata": {},
     "output_type": "execute_result"
    }
   ],
   "source": [
    "edges.crs"
   ]
  },
  {
   "cell_type": "markdown",
   "metadata": {},
   "source": [
    "### Measures\n",
    "\n",
    "#### Basic stats:\n",
    "\n",
    "<ul>\n",
    "    <li>n = number of nodes in the graph</li>\n",
    "    <li>m = number of edges in the graph </li>\n",
    "    <li>k_avg = average node degree of the graph </li>\n",
    "    <li> intersection_count = number of intersections in graph, that is,\n",
    "    nodes with >1 physical street connected to them </li>\n",
    "    <li>streets_per_node_avg = how many physical streets (edges in the\n",
    "    undirected representation of the graph) connect to each node (ie, intersection or dead-end) on average (mean) </li>\n",
    "    <li>streets_per_node_counts = dict with keys of number of physical\n",
    "    streets connecting to a node, and values of number of nodes with this count </li>\n",
    "    <li>streets_per_node_proportion = dict, same as previous, but as a\n",
    "    proportion of the total, rather than counts </li>\n",
    "    <li>edge_length_total = sum of all edge lengths in graph, in meters </li>\n",
    "    <li>edge_length_avg = mean edge length in the graph, in meters </li>\n",
    "    <li>street_length_total = sum of all edges in the undirected\n",
    "    representation of the graph </li>\n",
    "    <li>street_length_avg = mean edge length in the undirected\n",
    "    representation of the graph, in meters </li>\n",
    "    <li>street_segments_count = number of edges in the undirected\n",
    "    representation of the graph</li>\n",
    "    <li>node_density_km = n divided by area in square kilometers</li>\n",
    "    <li>intersection_density_km = intersection_count divided by area in\n",
    "    square kilometers</li>\n",
    "    <li>edge_density_km = edge_length_total divided by area in square\n",
    "    kilometers</li>\n",
    "    <li>street_density_km = street_length_total divided by area in square\n",
    "    kilometers</li>\n",
    "    <li>circuity_avg = edge_length_total divided by the sum of the great\n",
    "    circle distances between the nodes of each edge</li>\n",
    "    <li>self_loop_proportion = proportion of edges that have a single node\n",
    "    as its endpoints (ie, the edge links nodes u and v, and u==v)</li>\n",
    "    <li>clean_intersection_count = number of intersections in street\n",
    "    network, merging complex ones into single points</li>\n",
    "    <li>clean_intersection_density_km = clean_intersection_count divided\n",
    "    by area in square kilometers</li>\n",
    "</ul>\n",
    "\n",
    "#### Extended stats:\n",
    "\n",
    "<ul>\n",
    "    <li>avg_neighbor_degree = Mean degree of nodes in the neighborhood of each node</li>\n",
    "    <li>avg_neighbor_degree_avg = Mean of all average neighborhood degrees in network</li>\n",
    "    <li>avg_weighted_neighbor_degree = Mean degree of nodes in the neighborhood of each node, weighted by edge length</li>\n",
    "    <li>avg_weighted_neighbor_degree_avg = Mean of all weighted average neighborhood degrees in network</li>\n",
    "    <li>degree_centrality = Fraction of nodes that each node is connected to</li>\n",
    "    <li>degree_centrality_avg = Mean of all degree centralities in network</li>\n",
    "    <li>clustering_coefficient = Extent to which node's neighborhood forms a complete graph</li>\n",
    "    <li>clustering_coefficient_avg</li>\n",
    "    <li>clustering_coefficient_weighted = Extent to which node's neighborhood forms a complete graph, weighted by edge length</li>\n",
    "    <li>clustering_coefficient_weighted_avg = Mean of weighted clustering coefficients of all nodes in network</li>\n",
    "    <li>pagerank = Ranking of nodes based on structure of incoming edges</li>\n",
    "    <li>pagerank_max_node = Node with the maximum PageRank</li>\n",
    "    <li>pagerank_max = Highest PageRank value of any node in the graph</li>\n",
    "    <li>pagerank_min_node = Node with the minimum PageRank</li>\n",
    "    <li>pagerank_min = Lowest PageRank value of any node in the graph</li>\n",
    "    <li>node_connectivity = Minimum number of nodes that must be removed to disconnect network</li>\n",
    "    <li>node_connectivity_avg = Expected number of nodes that must be removed to\tdisconnect randomly selected pair of non-adjacent nodes</li>\n",
    "    <li>edge_connectivity = Minimum number of edges that must be removed to disconnect network</li>\n",
    "    <li>eccentricity = For each node, the maximum distance from it to all other nodes, weighted by length</li>\n",
    "    <li>diameter = Maximum eccentricity of any node in network</li>\n",
    "    <li>radius = Minimum eccentricity of any node in network</li>\n",
    "    <li>center = Set of all nodes whose eccentricity equals the radius</li>\n",
    "    <li>periphery = Set of all nodes whose eccentricity equals the diameter</li>\n",
    "    <li>closeness_centrality = For each node, the reciprocal of the sum of the distance from the node to all other nodes in the graph, weighted by length</li>\n",
    "    <li>closeness_centrality_avg = Mean of all the closeness centralities of all the nodes in network</li>\n",
    "    <li>betweenness_centrality = For each node, the fraction of all shortest paths that pass through the node</li>\n",
    "    <li>betweenness_centrality_avg = Mean of all the betweenness centralities of all the nodes in network</li>\n",
    "</ul>"
   ]
  },
  {
   "cell_type": "code",
   "execution_count": 40,
   "metadata": {},
   "outputs": [],
   "source": [
    "# for each colonia polygon, find intersecting nodes then induce subgraph\n",
    "j = 0\n",
    "subgraphs_colonias = [] #vector for storing subgraphs\n",
    "stats = [] #vector for storing stats from osmnx\n",
    "vec = [] #vector for storing stats both basic and extended; only the values\n",
    "for i in range(colonias_yucatan_merida_kanasin.size):\n",
    "    j = j+1\n",
    "    if j == 10: #only the first 10 colonia; just for testing\n",
    "        break\n",
    "        \n",
    "    #polygon = colonias_yucatan_merida.iloc[i].geometry\n",
    "    #colonia_name = colonias_yucatan_merida.iloc[i].SETT_NAME\n",
    "    #mun_name = colonias_yucatan_merida.iloc[i].MUN_NAME\n",
    "    #ob_id = colonias_yucatan_merida.iloc[i].OBJECTID\n",
    "\n",
    "    \n",
    "    try: \n",
    "        #try/except for handling empty graphs; \n",
    "        #if the graph is empty, NetworkX raises an error and stops the loop;\n",
    "        #this code ignores the empty graphs in the except statement\n",
    "        intersecting_nodes = nodes[nodes.intersects(polygon)].index\n",
    "        G_sub = G.subgraph(intersecting_nodes)\n",
    "        subgraphs_colonias.append(G_sub)\n",
    "        stat = ox.basic_stats(G_sub, \n",
    "                              area=None, #the land area of this study site, in square meters. must be greater than 0. if None, will skip all density-based metrics.\n",
    "                              clean_intersects=False, #if True, calculate consolidated intersections count (and density, if area is provided) via consolidate_intersections function\n",
    "                              circuity_dist='gc') #‘gc’ or ‘euclidean’, how to calculate straight-line distances for circuity measurement; use former for lat-lng networks and latter for projected networks\n",
    "        extended_stat = ox.extended_stats(G_sub, \n",
    "                                          connectivity=False, #if True, calculate node and edge connectivity\n",
    "                                          anc=False, #if True, calculate average node connectivity\n",
    "                                          ecc=True, #calculate shortest paths, eccentricity, and topological metrics that use eccentricity\n",
    "                                          bc=True, #calculate node betweenness centrality\n",
    "                                          cc=True) #calculate node closeness centrality\n",
    "        for key, value in extended_stat.items():\n",
    "            stat[key] = value #insert the extended stats values\n",
    "        vec = [stat[elem] for elem in stat if isinstance(stat[elem], dict) == False] #add only the values except the dict type\n",
    "        stats.append(vec)\n",
    "        #print(ob_id + \", \" + colonia_name + \", \" + mun_name)\n",
    "        #fig, ax = ox.plot_graph(G_sub)\n",
    "    except:\n",
    "        pass"
   ]
  }
 ],
 "metadata": {
  "kernelspec": {
   "display_name": "Python 3",
   "language": "python",
   "name": "python3"
  },
  "language_info": {
   "codemirror_mode": {
    "name": "ipython",
    "version": 3
   },
   "file_extension": ".py",
   "mimetype": "text/x-python",
   "name": "python",
   "nbconvert_exporter": "python",
   "pygments_lexer": "ipython3",
   "version": "3.8.6"
  }
 },
 "nbformat": 4,
 "nbformat_minor": 4
}
